{
 "cells": [
  {
   "cell_type": "code",
   "execution_count": 1,
   "id": "30926332",
   "metadata": {},
   "outputs": [],
   "source": [
    "import konlpy"
   ]
  },
  {
   "cell_type": "code",
   "execution_count": 2,
   "id": "21b8ac1c",
   "metadata": {},
   "outputs": [],
   "source": [
    "from konlpy.tag import *"
   ]
  },
  {
   "cell_type": "code",
   "execution_count": 3,
   "id": "8e8b704d",
   "metadata": {},
   "outputs": [],
   "source": [
    "komoran = Komoran()"
   ]
  },
  {
   "cell_type": "code",
   "execution_count": 4,
   "id": "a2cfd268",
   "metadata": {},
   "outputs": [
    {
     "name": "stdout",
     "output_type": "stream",
     "text": [
      "[('에버랜드', 'NNP'), ('다녀오', 'VV'), ('시', 'EP'), ('었', 'EP'), ('어요', 'EF'), ('?', 'SF'), ('아', 'IC'), ('사람', 'NNG'), ('이', 'JKS'), ('많', 'VA'), ('았', 'EP'), ('어요', 'EF'), ('?', 'SF'), ('날씨', 'NNG'), ('가', 'JKS'), ('요즘', 'NNG'), ('너무', 'MAG'), ('좋아서', 'NNP'), ('그렇', 'VA'), ('ㄴ가', 'EC'), ('보', 'VX'), ('아요', 'EC'), ('사람', 'NNG'), ('이', 'JKS'), ('많', 'VA'), ('았', 'EP'), ('으면', 'EC'), ('놀이기구', 'NNP'), ('도', 'JX'), ('많이', 'MAG'), ('못', 'MAG'), ('타', 'VV'), ('시', 'EP'), ('었', 'EP'), ('겠', 'EP'), ('네요', 'EC'), ('t', 'SL'), ('익스프레스', 'NNG'), ('진짜', 'MAG'), ('재밌', 'VA'), ('죠', 'EF'), ('!', 'SF')]\n",
      "[('네', 'MM'), ('이번', 'NNG'), ('주', 'NNG'), ('에', 'JKB'), ('친구', 'NNG'), ('들', 'XSN'), ('이랑', 'JC'), ('다녀오', 'VV'), ('았', 'EP'), ('는데', 'EC'), ('사람', 'NNG'), ('이', 'JKS'), ('너무', 'MAG'), ('많', 'VA'), ('았', 'EP'), ('어요', 'EC'), ('네', 'IC'), ('…', 'SE'), ('별로', 'MAG'), ('못', 'MAG'), ('타', 'VV'), ('았', 'EP'), ('어요', 'EC'), ('그래도', 'MAJ'), ('t', 'SL'), ('익스프레스', 'NNG'), ('는', 'JX'), ('기다리', 'VV'), ('어서', 'EC'), ('타', 'VV'), ('았', 'EP'), ('는데', 'EC'), ('역시', 'MAJ'), ('나', 'JX'), ('재밌', 'VA'), ('었', 'EP'), ('어요', 'EC')]\n"
     ]
    }
   ],
   "source": [
    "sentence1 = \"에버랜드 다녀오셨어요?\"\n",
    "sentence2=\"아 사람이 많았어요? 날씨가 요즘 너무 좋아서 그런가봐요 사람이 많았으면 놀이기구도 많이 못 타셨겠네요 \n",
    "sentence3=\"t 익스프레스 진짜 재밌죠! \"\n",
    "sentence4 = \"\"\"네 이번주에 친구들이랑 다녀왔는데 사람이 너무 많았어요\n",
    "네… 별로 못 탔어요 그래도 t 익스프레스는 기다려서 탔는데 역시나 재밌었어요 \n",
    "\"\"\"\n",
    "test1 = komoran.pos(sentence1)\n",
    "test2 = komoran.pos(sentence2)\n",
    "print(test1)\n",
    "print(test2)"
   ]
  },
  {
   "cell_type": "code",
   "execution_count": 5,
   "id": "f968d1cd",
   "metadata": {},
   "outputs": [
    {
     "name": "stdout",
     "output_type": "stream",
     "text": [
      "42\n",
      "37\n"
     ]
    }
   ],
   "source": [
    "print(len(test1))\n",
    "print(len(test2))"
   ]
  },
  {
   "cell_type": "code",
   "execution_count": null,
   "id": "5f7bf1a7",
   "metadata": {},
   "outputs": [],
   "source": []
  }
 ],
 "metadata": {
  "kernelspec": {
   "display_name": "Python 3 (ipykernel)",
   "language": "python",
   "name": "python3"
  },
  "language_info": {
   "codemirror_mode": {
    "name": "ipython",
    "version": 3
   },
   "file_extension": ".py",
   "mimetype": "text/x-python",
   "name": "python",
   "nbconvert_exporter": "python",
   "pygments_lexer": "ipython3",
   "version": "3.8.5"
  }
 },
 "nbformat": 4,
 "nbformat_minor": 5
}
