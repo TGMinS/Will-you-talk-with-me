{
 "cells": [
  {
   "cell_type": "markdown",
   "id": "0d7a409e",
   "metadata": {},
   "source": [
    "### 주제 호응도 2. 물음표가 서로 비슷하다."
   ]
  },
  {
   "cell_type": "markdown",
   "id": "907c34be",
   "metadata": {},
   "source": [
    "#### 예제 sentence"
   ]
  },
  {
   "cell_type": "code",
   "execution_count": 2,
   "id": "7a40ff3b",
   "metadata": {},
   "outputs": [],
   "source": [
    "sentence1 = \"\"\"에버랜드 다녀오셨어요? 아 사람이 많았어요? 날씨가 요즘 너무 좋아서 그런가봐요 \n",
    "사람이 많았으면 놀이기구도 많이 못 타셨겠네요 t 익스프레스 진짜 재밌죠!\n",
    "\"\"\"\n",
    "\n",
    "sentence2 = \"\"\"네 이번주에 친구들이랑 다녀왔는데 사람이 너무 많았어요\n",
    "네… 별로 못 탔어요 그래도 t 익스프레스는 기다려서 탔는데 역시나 재밌었어요 \n",
    "\"\"\""
   ]
  },
  {
   "cell_type": "code",
   "execution_count": 4,
   "id": "4e752f80",
   "metadata": {},
   "outputs": [],
   "source": [
    "question_mark_num1 = len([x for x in sentence1 if x == '?'])\n",
    "question_mark_num2 = len([x for x in sentence2 if x == '?'])"
   ]
  },
  {
   "cell_type": "code",
   "execution_count": 5,
   "id": "4cc5d6be",
   "metadata": {},
   "outputs": [
    {
     "name": "stdout",
     "output_type": "stream",
     "text": [
      "sentence1 :  2\n",
      "sentence2 :  0\n"
     ]
    }
   ],
   "source": [
    "print(\"sentence1 : \", question_mark_num1)\n",
    "print(\"sentence2 : \", question_mark_num2)"
   ]
  }
 ],
 "metadata": {
  "kernelspec": {
   "display_name": "Python 3 (ipykernel)",
   "language": "python",
   "name": "python3"
  },
  "language_info": {
   "codemirror_mode": {
    "name": "ipython",
    "version": 3
   },
   "file_extension": ".py",
   "mimetype": "text/x-python",
   "name": "python",
   "nbconvert_exporter": "python",
   "pygments_lexer": "ipython3",
   "version": "3.9.7"
  }
 },
 "nbformat": 4,
 "nbformat_minor": 5
}
