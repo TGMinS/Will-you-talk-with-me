{
 "cells": [
  {
   "cell_type": "markdown",
   "id": "941bd5aa",
   "metadata": {},
   "source": [
    "### 주제 호응도 1. 서로 말하는 단어 수가 비슷하다."
   ]
  },
  {
   "cell_type": "code",
   "execution_count": 3,
   "id": "30926332",
   "metadata": {},
   "outputs": [],
   "source": [
    "from konlpy.tag import *"
   ]
  },
  {
   "cell_type": "code",
   "execution_count": 11,
   "id": "8e8b704d",
   "metadata": {},
   "outputs": [],
   "source": [
    "komoran = Komoran()"
   ]
  },
  {
   "cell_type": "markdown",
   "id": "bf83492a",
   "metadata": {},
   "source": [
    "#### 예제 sentence"
   ]
  },
  {
   "cell_type": "code",
   "execution_count": 21,
   "id": "a2cfd268",
   "metadata": {
    "scrolled": false
   },
   "outputs": [
    {
     "name": "stdout",
     "output_type": "stream",
     "text": [
      "[('에버랜드', 'NNP'), ('다녀오', 'VV'), ('시', 'EP'), ('었', 'EP'), ('어요', 'EF'), ('?', 'SF'), ('아', 'IC'), ('사람', 'NNG'), ('이', 'JKS'), ('많', 'VA'), ('았', 'EP'), ('어요', 'EF'), ('?', 'SF'), ('날씨', 'NNG'), ('가', 'JKS'), ('요즘', 'NNG'), ('너무', 'MAG'), ('좋아서', 'NNP'), ('그렇', 'VA'), ('ㄴ가', 'EC'), ('보', 'VX'), ('아요', 'EC'), ('사람', 'NNG'), ('이', 'JKS'), ('많', 'VA'), ('았', 'EP'), ('으면', 'EC'), ('놀이기구', 'NNP'), ('도', 'JX'), ('많이', 'MAG'), ('못', 'MAG'), ('타', 'VV'), ('시', 'EP'), ('었', 'EP'), ('겠', 'EP'), ('네요', 'EC'), ('t', 'SL'), ('익스프레스', 'NNG'), ('진짜', 'MAG'), ('재밌', 'VA'), ('죠', 'EF'), ('!', 'SF')]\n",
      "[('네', 'MM'), ('이번', 'NNG'), ('주', 'NNG'), ('에', 'JKB'), ('친구', 'NNG'), ('들', 'XSN'), ('이랑', 'JC'), ('다녀오', 'VV'), ('았', 'EP'), ('는데', 'EC'), ('사람', 'NNG'), ('이', 'JKS'), ('너무', 'MAG'), ('많', 'VA'), ('았', 'EP'), ('어요', 'EC'), ('네', 'IC'), ('…', 'SE'), ('별로', 'MAG'), ('못', 'MAG'), ('타', 'VV'), ('았', 'EP'), ('어요', 'EC'), ('그래도', 'MAJ'), ('t', 'SL'), ('익스프레스', 'NNG'), ('는', 'JX'), ('기다리', 'VV'), ('어서', 'EC'), ('타', 'VV'), ('았', 'EP'), ('는데', 'EC'), ('역시', 'MAJ'), ('나', 'JX'), ('재밌', 'VA'), ('었', 'EP'), ('어요', 'EC')]\n"
     ]
    }
   ],
   "source": [
    "sentence1 = \"\"\"에버랜드 다녀오셨어요? 아 사람이 많았어요? 날씨가 요즘 너무 좋아서 그런가봐요 \n",
    "사람이 많았으면 놀이기구도 많이 못 타셨겠네요 t 익스프레스 진짜 재밌죠!\n",
    "\"\"\"\n",
    "\n",
    "sentence2 = \"\"\"네 이번주에 친구들이랑 다녀왔는데 사람이 너무 많았어요\n",
    "네… 별로 못 탔어요 그래도 t 익스프레스는 기다려서 탔는데 역시나 재밌었어요 \n",
    "\"\"\""
   ]
  },
  {
   "cell_type": "markdown",
   "id": "2f6dbebd",
   "metadata": {},
   "source": [
    "#### 모든 형태소 포함하여 측정"
   ]
  },
  {
   "cell_type": "code",
   "execution_count": 23,
   "id": "f968d1cd",
   "metadata": {
    "scrolled": true
   },
   "outputs": [
    {
     "name": "stdout",
     "output_type": "stream",
     "text": [
      "sentence1 :  42\n",
      "sentence2 :  37\n"
     ]
    }
   ],
   "source": [
    "print(\"sentence1 : \", len(test1))\n",
    "print(\"sentence2 : \", len(test2))"
   ]
  },
  {
   "cell_type": "markdown",
   "id": "9a0f5991",
   "metadata": {},
   "source": [
    "#### 명사 수만 측정"
   ]
  },
  {
   "cell_type": "code",
   "execution_count": 28,
   "id": "5f7bf1a7",
   "metadata": {},
   "outputs": [
    {
     "name": "stdout",
     "output_type": "stream",
     "text": [
      "sentence1 :  8\n",
      "sentence1 :  5\n"
     ]
    }
   ],
   "source": [
    "print(\"sentence1 : \", len([x for x in test1 if x[1] == 'NNP' or x[1] == 'NNG']))\n",
    "print(\"sentence1 : \", len([x for x in test2 if x[1] == 'NNP' or x[1] == 'NNG']))"
   ]
  },
  {
   "cell_type": "markdown",
   "id": "810506a4",
   "metadata": {},
   "source": [
    "#### 어미와 조사를 제외한 모든 형태소 측정"
   ]
  },
  {
   "cell_type": "code",
   "execution_count": 30,
   "id": "73469494",
   "metadata": {},
   "outputs": [
    {
     "name": "stdout",
     "output_type": "stream",
     "text": [
      "sentence1 :  25\n",
      "sentence1 :  23\n"
     ]
    }
   ],
   "source": [
    "print(\"sentence1 : \", len([x for x in test1 if x[1] != 'EC' and x[1] != 'EF' and x[1] != 'EP' and x[1] != 'ETM' and x[1] != 'ETN' and x[1] != 'JC' and x[1] != 'JKB' and x[1] != 'JKC' and x[1] != 'JKG' and x[1] != 'JKO' and x[1] != 'JKQ' and x[1] != 'JKS' and x[1] != 'JKV']))\n",
    "print(\"sentence1 : \", len([x for x in test2 if x[1] != 'EC' and x[1] != 'EF' and x[1] != 'EP' and x[1] != 'ETM' and x[1] != 'ETN' and x[1] != 'JC' and x[1] != 'JKB' and x[1] != 'JKC' and x[1] != 'JKG' and x[1] != 'JKO' and x[1] != 'JKQ' and x[1] != 'JKS' and x[1] != 'JKV']))"
   ]
  },
  {
   "cell_type": "markdown",
   "id": "f8ae340e",
   "metadata": {},
   "source": [
    "#### Reference https://datascienceschool.net/03%20machine%20learning/03.01.02%20KoNLPy%20%ED%95%9C%EA%B5%AD%EC%96%B4%20%EC%B2%98%EB%A6%AC%20%ED%8C%A8%ED%82%A4%EC%A7%80.html"
   ]
  }
 ],
 "metadata": {
  "kernelspec": {
   "display_name": "Python 3 (ipykernel)",
   "language": "python",
   "name": "python3"
  },
  "language_info": {
   "codemirror_mode": {
    "name": "ipython",
    "version": 3
   },
   "file_extension": ".py",
   "mimetype": "text/x-python",
   "name": "python",
   "nbconvert_exporter": "python",
   "pygments_lexer": "ipython3",
   "version": "3.9.7"
  }
 },
 "nbformat": 4,
 "nbformat_minor": 5
}
