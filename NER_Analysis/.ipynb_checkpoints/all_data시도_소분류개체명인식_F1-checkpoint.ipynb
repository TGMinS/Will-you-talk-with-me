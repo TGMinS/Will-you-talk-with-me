{
 "cells": [
  {
   "cell_type": "code",
   "execution_count": 1,
   "metadata": {
    "colab": {
     "base_uri": "https://localhost:8080/"
    },
    "executionInfo": {
     "elapsed": 8324,
     "status": "ok",
     "timestamp": 1663581582055,
     "user": {
      "displayName": "이도현",
      "userId": "09446858875803925695"
     },
     "user_tz": -540
    },
    "id": "KShrTzhAG_pS",
    "outputId": "301df010-8c5a-4968-fb59-9f24e70ce3d0"
   },
   "outputs": [
    {
     "name": "stdout",
     "output_type": "stream",
     "text": [
      "Looking in indexes: https://pypi.org/simple, https://us-python.pkg.dev/colab-wheels/public/simple/\n",
      "Collecting seqeval\n",
      "  Downloading seqeval-1.2.2.tar.gz (43 kB)\n",
      "\u001b[K     |████████████████████████████████| 43 kB 1.1 MB/s \n",
      "\u001b[?25hRequirement already satisfied: numpy>=1.14.0 in /usr/local/lib/python3.7/dist-packages (from seqeval) (1.21.6)\n",
      "Requirement already satisfied: scikit-learn>=0.21.3 in /usr/local/lib/python3.7/dist-packages (from seqeval) (1.0.2)\n",
      "Requirement already satisfied: threadpoolctl>=2.0.0 in /usr/local/lib/python3.7/dist-packages (from scikit-learn>=0.21.3->seqeval) (3.1.0)\n",
      "Requirement already satisfied: scipy>=1.1.0 in /usr/local/lib/python3.7/dist-packages (from scikit-learn>=0.21.3->seqeval) (1.7.3)\n",
      "Requirement already satisfied: joblib>=0.11 in /usr/local/lib/python3.7/dist-packages (from scikit-learn>=0.21.3->seqeval) (1.1.0)\n",
      "Building wheels for collected packages: seqeval\n",
      "  Building wheel for seqeval (setup.py) ... \u001b[?25l\u001b[?25hdone\n",
      "  Created wheel for seqeval: filename=seqeval-1.2.2-py3-none-any.whl size=16180 sha256=fa431c3420bd6278058145175cea84d8e3de78b696c87b6198b5ab9d5ce5db87\n",
      "  Stored in directory: /root/.cache/pip/wheels/05/96/ee/7cac4e74f3b19e3158dce26a20a1c86b3533c43ec72a549fd7\n",
      "Successfully built seqeval\n",
      "Installing collected packages: seqeval\n",
      "Successfully installed seqeval-1.2.2\n"
     ]
    }
   ],
   "source": [
    "!pip install seqeval\n",
    "from seqeval.metrics import f1_score, classification_report"
   ]
  },
  {
   "cell_type": "code",
   "execution_count": 2,
   "metadata": {
    "executionInfo": {
     "elapsed": 2219,
     "status": "ok",
     "timestamp": 1663581584269,
     "user": {
      "displayName": "이도현",
      "userId": "09446858875803925695"
     },
     "user_tz": -540
    },
    "id": "GDzt7xn8HX4h"
   },
   "outputs": [],
   "source": [
    "import pandas as pd\n",
    "import numpy as np\n",
    "import matplotlib.pyplot as plt\n",
    "import urllib.request\n",
    "from tensorflow.keras.preprocessing.text import Tokenizer\n",
    "from tensorflow.keras.preprocessing.sequence import pad_sequences\n",
    "from sklearn.model_selection import train_test_split\n",
    "from tensorflow.keras.utils import to_categorical"
   ]
  },
  {
   "cell_type": "code",
   "execution_count": 3,
   "metadata": {
    "colab": {
     "base_uri": "https://localhost:8080/"
    },
    "executionInfo": {
     "elapsed": 6391,
     "status": "ok",
     "timestamp": 1663581590652,
     "user": {
      "displayName": "이도현",
      "userId": "09446858875803925695"
     },
     "user_tz": -540
    },
    "id": "NosWfNsPHZcN",
    "outputId": "ca014d9c-7c5b-46a6-9b12-adf0be10c243"
   },
   "outputs": [
    {
     "name": "stdout",
     "output_type": "stream",
     "text": [
      "Looking in indexes: https://pypi.org/simple, https://us-python.pkg.dev/colab-wheels/public/simple/\n",
      "Collecting keras-crf\n",
      "  Downloading keras_crf-0.3.0-py3-none-any.whl (8.3 kB)\n",
      "Requirement already satisfied: tensorflow in /usr/local/lib/python3.7/dist-packages (from keras-crf) (2.8.2+zzzcolab20220719082949)\n",
      "Collecting tensorflow-addons\n",
      "  Downloading tensorflow_addons-0.17.1-cp37-cp37m-manylinux_2_17_x86_64.manylinux2014_x86_64.whl (1.1 MB)\n",
      "\u001b[K     |████████████████████████████████| 1.1 MB 2.1 MB/s \n",
      "\u001b[?25hRequirement already satisfied: absl-py>=0.4.0 in /usr/local/lib/python3.7/dist-packages (from tensorflow->keras-crf) (1.2.0)\n",
      "Requirement already satisfied: protobuf<3.20,>=3.9.2 in /usr/local/lib/python3.7/dist-packages (from tensorflow->keras-crf) (3.17.3)\n",
      "Requirement already satisfied: gast>=0.2.1 in /usr/local/lib/python3.7/dist-packages (from tensorflow->keras-crf) (0.5.3)\n",
      "Requirement already satisfied: six>=1.12.0 in /usr/local/lib/python3.7/dist-packages (from tensorflow->keras-crf) (1.15.0)\n",
      "Requirement already satisfied: google-pasta>=0.1.1 in /usr/local/lib/python3.7/dist-packages (from tensorflow->keras-crf) (0.2.0)\n",
      "Requirement already satisfied: setuptools in /usr/local/lib/python3.7/dist-packages (from tensorflow->keras-crf) (57.4.0)\n",
      "Requirement already satisfied: termcolor>=1.1.0 in /usr/local/lib/python3.7/dist-packages (from tensorflow->keras-crf) (1.1.0)\n",
      "Requirement already satisfied: flatbuffers>=1.12 in /usr/local/lib/python3.7/dist-packages (from tensorflow->keras-crf) (2.0.7)\n",
      "Requirement already satisfied: grpcio<2.0,>=1.24.3 in /usr/local/lib/python3.7/dist-packages (from tensorflow->keras-crf) (1.48.1)\n",
      "Requirement already satisfied: keras<2.9,>=2.8.0rc0 in /usr/local/lib/python3.7/dist-packages (from tensorflow->keras-crf) (2.8.0)\n",
      "Requirement already satisfied: libclang>=9.0.1 in /usr/local/lib/python3.7/dist-packages (from tensorflow->keras-crf) (14.0.6)\n",
      "Requirement already satisfied: opt-einsum>=2.3.2 in /usr/local/lib/python3.7/dist-packages (from tensorflow->keras-crf) (3.3.0)\n",
      "Requirement already satisfied: keras-preprocessing>=1.1.1 in /usr/local/lib/python3.7/dist-packages (from tensorflow->keras-crf) (1.1.2)\n",
      "Requirement already satisfied: tensorflow-estimator<2.9,>=2.8 in /usr/local/lib/python3.7/dist-packages (from tensorflow->keras-crf) (2.8.0)\n",
      "Requirement already satisfied: tensorflow-io-gcs-filesystem>=0.23.1 in /usr/local/lib/python3.7/dist-packages (from tensorflow->keras-crf) (0.26.0)\n",
      "Requirement already satisfied: astunparse>=1.6.0 in /usr/local/lib/python3.7/dist-packages (from tensorflow->keras-crf) (1.6.3)\n",
      "Requirement already satisfied: wrapt>=1.11.0 in /usr/local/lib/python3.7/dist-packages (from tensorflow->keras-crf) (1.14.1)\n",
      "Requirement already satisfied: typing-extensions>=3.6.6 in /usr/local/lib/python3.7/dist-packages (from tensorflow->keras-crf) (4.1.1)\n",
      "Requirement already satisfied: tensorboard<2.9,>=2.8 in /usr/local/lib/python3.7/dist-packages (from tensorflow->keras-crf) (2.8.0)\n",
      "Requirement already satisfied: numpy>=1.20 in /usr/local/lib/python3.7/dist-packages (from tensorflow->keras-crf) (1.21.6)\n",
      "Requirement already satisfied: h5py>=2.9.0 in /usr/local/lib/python3.7/dist-packages (from tensorflow->keras-crf) (3.1.0)\n",
      "Requirement already satisfied: wheel<1.0,>=0.23.0 in /usr/local/lib/python3.7/dist-packages (from astunparse>=1.6.0->tensorflow->keras-crf) (0.37.1)\n",
      "Requirement already satisfied: cached-property in /usr/local/lib/python3.7/dist-packages (from h5py>=2.9.0->tensorflow->keras-crf) (1.5.2)\n",
      "Requirement already satisfied: werkzeug>=0.11.15 in /usr/local/lib/python3.7/dist-packages (from tensorboard<2.9,>=2.8->tensorflow->keras-crf) (1.0.1)\n",
      "Requirement already satisfied: markdown>=2.6.8 in /usr/local/lib/python3.7/dist-packages (from tensorboard<2.9,>=2.8->tensorflow->keras-crf) (3.4.1)\n",
      "Requirement already satisfied: tensorboard-data-server<0.7.0,>=0.6.0 in /usr/local/lib/python3.7/dist-packages (from tensorboard<2.9,>=2.8->tensorflow->keras-crf) (0.6.1)\n",
      "Requirement already satisfied: requests<3,>=2.21.0 in /usr/local/lib/python3.7/dist-packages (from tensorboard<2.9,>=2.8->tensorflow->keras-crf) (2.23.0)\n",
      "Requirement already satisfied: google-auth-oauthlib<0.5,>=0.4.1 in /usr/local/lib/python3.7/dist-packages (from tensorboard<2.9,>=2.8->tensorflow->keras-crf) (0.4.6)\n",
      "Requirement already satisfied: google-auth<3,>=1.6.3 in /usr/local/lib/python3.7/dist-packages (from tensorboard<2.9,>=2.8->tensorflow->keras-crf) (1.35.0)\n",
      "Requirement already satisfied: tensorboard-plugin-wit>=1.6.0 in /usr/local/lib/python3.7/dist-packages (from tensorboard<2.9,>=2.8->tensorflow->keras-crf) (1.8.1)\n",
      "Requirement already satisfied: cachetools<5.0,>=2.0.0 in /usr/local/lib/python3.7/dist-packages (from google-auth<3,>=1.6.3->tensorboard<2.9,>=2.8->tensorflow->keras-crf) (4.2.4)\n",
      "Requirement already satisfied: rsa<5,>=3.1.4 in /usr/local/lib/python3.7/dist-packages (from google-auth<3,>=1.6.3->tensorboard<2.9,>=2.8->tensorflow->keras-crf) (4.9)\n",
      "Requirement already satisfied: pyasn1-modules>=0.2.1 in /usr/local/lib/python3.7/dist-packages (from google-auth<3,>=1.6.3->tensorboard<2.9,>=2.8->tensorflow->keras-crf) (0.2.8)\n",
      "Requirement already satisfied: requests-oauthlib>=0.7.0 in /usr/local/lib/python3.7/dist-packages (from google-auth-oauthlib<0.5,>=0.4.1->tensorboard<2.9,>=2.8->tensorflow->keras-crf) (1.3.1)\n",
      "Requirement already satisfied: importlib-metadata>=4.4 in /usr/local/lib/python3.7/dist-packages (from markdown>=2.6.8->tensorboard<2.9,>=2.8->tensorflow->keras-crf) (4.12.0)\n",
      "Requirement already satisfied: zipp>=0.5 in /usr/local/lib/python3.7/dist-packages (from importlib-metadata>=4.4->markdown>=2.6.8->tensorboard<2.9,>=2.8->tensorflow->keras-crf) (3.8.1)\n",
      "Requirement already satisfied: pyasn1<0.5.0,>=0.4.6 in /usr/local/lib/python3.7/dist-packages (from pyasn1-modules>=0.2.1->google-auth<3,>=1.6.3->tensorboard<2.9,>=2.8->tensorflow->keras-crf) (0.4.8)\n",
      "Requirement already satisfied: urllib3!=1.25.0,!=1.25.1,<1.26,>=1.21.1 in /usr/local/lib/python3.7/dist-packages (from requests<3,>=2.21.0->tensorboard<2.9,>=2.8->tensorflow->keras-crf) (1.24.3)\n",
      "Requirement already satisfied: chardet<4,>=3.0.2 in /usr/local/lib/python3.7/dist-packages (from requests<3,>=2.21.0->tensorboard<2.9,>=2.8->tensorflow->keras-crf) (3.0.4)\n",
      "Requirement already satisfied: certifi>=2017.4.17 in /usr/local/lib/python3.7/dist-packages (from requests<3,>=2.21.0->tensorboard<2.9,>=2.8->tensorflow->keras-crf) (2022.6.15)\n",
      "Requirement already satisfied: idna<3,>=2.5 in /usr/local/lib/python3.7/dist-packages (from requests<3,>=2.21.0->tensorboard<2.9,>=2.8->tensorflow->keras-crf) (2.10)\n",
      "Requirement already satisfied: oauthlib>=3.0.0 in /usr/local/lib/python3.7/dist-packages (from requests-oauthlib>=0.7.0->google-auth-oauthlib<0.5,>=0.4.1->tensorboard<2.9,>=2.8->tensorflow->keras-crf) (3.2.0)\n",
      "Requirement already satisfied: packaging in /usr/local/lib/python3.7/dist-packages (from tensorflow-addons->keras-crf) (21.3)\n",
      "Requirement already satisfied: typeguard>=2.7 in /usr/local/lib/python3.7/dist-packages (from tensorflow-addons->keras-crf) (2.7.1)\n",
      "Requirement already satisfied: pyparsing!=3.0.5,>=2.0.2 in /usr/local/lib/python3.7/dist-packages (from packaging->tensorflow-addons->keras-crf) (3.0.9)\n",
      "Installing collected packages: tensorflow-addons, keras-crf\n",
      "Successfully installed keras-crf-0.3.0 tensorflow-addons-0.17.1\n",
      "Looking in indexes: https://pypi.org/simple, https://us-python.pkg.dev/colab-wheels/public/simple/\n",
      "Requirement already satisfied: seqeval in /usr/local/lib/python3.7/dist-packages (1.2.2)\n",
      "Requirement already satisfied: numpy>=1.14.0 in /usr/local/lib/python3.7/dist-packages (from seqeval) (1.21.6)\n",
      "Requirement already satisfied: scikit-learn>=0.21.3 in /usr/local/lib/python3.7/dist-packages (from seqeval) (1.0.2)\n",
      "Requirement already satisfied: scipy>=1.1.0 in /usr/local/lib/python3.7/dist-packages (from scikit-learn>=0.21.3->seqeval) (1.7.3)\n",
      "Requirement already satisfied: threadpoolctl>=2.0.0 in /usr/local/lib/python3.7/dist-packages (from scikit-learn>=0.21.3->seqeval) (3.1.0)\n",
      "Requirement already satisfied: joblib>=0.11 in /usr/local/lib/python3.7/dist-packages (from scikit-learn>=0.21.3->seqeval) (1.1.0)\n"
     ]
    }
   ],
   "source": [
    "!pip install keras-crf\n",
    "!pip install seqeval\n",
    "import tensorflow as tf\n",
    "from tensorflow.keras import Model\n",
    "from tensorflow.keras.layers import Dense, LSTM, Input, Bidirectional, TimeDistributed, Embedding, Dropout\n",
    "from tensorflow.keras.callbacks import EarlyStopping, ModelCheckpoint\n",
    "from keras_crf import CRFModel\n",
    "from seqeval.metrics import f1_score, classification_report"
   ]
  },
  {
   "cell_type": "code",
   "execution_count": 4,
   "metadata": {
    "colab": {
     "base_uri": "https://localhost:8080/"
    },
    "executionInfo": {
     "elapsed": 38828,
     "status": "ok",
     "timestamp": 1663581629960,
     "user": {
      "displayName": "이도현",
      "userId": "09446858875803925695"
     },
     "user_tz": -540
    },
    "id": "yiswQuGBHM3a",
    "outputId": "90b37fe5-f580-4561-8caa-72a3f7be763e"
   },
   "outputs": [
    {
     "name": "stdout",
     "output_type": "stream",
     "text": [
      "Mounted at /content/drive\n"
     ]
    }
   ],
   "source": [
    "from google.colab import drive\n",
    "drive.mount('/content/drive')"
   ]
  },
  {
   "cell_type": "code",
   "execution_count": 5,
   "metadata": {
    "executionInfo": {
     "elapsed": 4,
     "status": "ok",
     "timestamp": 1663581629961,
     "user": {
      "displayName": "이도현",
      "userId": "09446858875803925695"
     },
     "user_tz": -540
    },
    "id": "XMDfIg-wHNRR"
   },
   "outputs": [],
   "source": [
    "path = '/content/drive/MyDrive/Colab Notebooks/AURA2/'"
   ]
  },
  {
   "cell_type": "code",
   "execution_count": 6,
   "metadata": {
    "colab": {
     "base_uri": "https://localhost:8080/"
    },
    "executionInfo": {
     "elapsed": 34650,
     "status": "ok",
     "timestamp": 1663581664608,
     "user": {
      "displayName": "이도현",
      "userId": "09446858875803925695"
     },
     "user_tz": -540
    },
    "id": "YJL5iK-JHOjK",
    "outputId": "29650139-8424-4e96-ec87-668e91195f29"
   },
   "outputs": [
    {
     "name": "stdout",
     "output_type": "stream",
     "text": [
      "진행:  0\n",
      "진행:  10000\n",
      "진행:  20000\n",
      "진행:  30000\n",
      "진행:  40000\n",
      "진행:  50000\n",
      "진행:  60000\n",
      "진행:  70000\n",
      "진행:  80000\n",
      "진행:  90000\n",
      "진행:  100000\n",
      "진행:  110000\n",
      "진행:  120000\n",
      "진행:  130000\n",
      "진행:  140000\n",
      "진행:  150000\n",
      "진행:  160000\n",
      "진행:  170000\n",
      "진행:  180000\n",
      "진행:  190000\n",
      "진행:  200000\n",
      "진행:  210000\n",
      "진행:  220000\n",
      "진행:  230000\n",
      "진행:  240000\n",
      "진행:  250000\n",
      "진행:  260000\n",
      "진행:  270000\n",
      "진행:  280000\n",
      "진행:  290000\n",
      "진행:  300000\n",
      "진행:  310000\n",
      "진행:  320000\n",
      "진행:  330000\n",
      "진행:  340000\n",
      "진행:  350000\n"
     ]
    }
   ],
   "source": [
    "import ast\n",
    "train_df = pd.read_csv(path +'ner_train_df.csv')\n",
    "sentences = []\n",
    "ner_tags = []\n",
    "for i in range(len(train_df)):\n",
    "  if i % 10000 == 0:\n",
    "    print(\"진행: \",i)\n",
    "  sentences.append(ast.literal_eval(train_df['sentence'].iloc[i]))\n",
    "  ner_tags.append(ast.literal_eval(train_df['ner_tags'].iloc[i]))"
   ]
  },
  {
   "cell_type": "code",
   "execution_count": 7,
   "metadata": {
    "colab": {
     "base_uri": "https://localhost:8080/"
    },
    "executionInfo": {
     "elapsed": 6691,
     "status": "ok",
     "timestamp": 1663581671290,
     "user": {
      "displayName": "이도현",
      "userId": "09446858875803925695"
     },
     "user_tz": -540
    },
    "id": "M1LzImVzHPc_",
    "outputId": "333fe94f-fc44-456f-f69f-f06a76115b34"
   },
   "outputs": [
    {
     "name": "stdout",
     "output_type": "stream",
     "text": [
      "단어 집합의 크기 : 232363\n",
      "개체명 태깅 정보 집합의 크기 : 300\n"
     ]
    }
   ],
   "source": [
    "# 모든 단어를 사용하며 인덱스 1에는 단어 'OOV'를 할당.\n",
    "src_tokenizer = Tokenizer(oov_token='OOV')\n",
    "# 태깅 정보들은 내부적으로 대문자를 유지한 채 저장\n",
    "tar_tokenizer = Tokenizer(lower=False)\n",
    "\n",
    "src_tokenizer.fit_on_texts(sentences)\n",
    "tar_tokenizer.fit_on_texts(ner_tags)\n",
    "\n",
    "vocab_size = len(src_tokenizer.word_index) + 1\n",
    "tag_size = len(tar_tokenizer.word_index) + 1\n",
    "print('단어 집합의 크기 : {}'.format(vocab_size))\n",
    "print('개체명 태깅 정보 집합의 크기 : {}'.format(tag_size))"
   ]
  },
  {
   "cell_type": "code",
   "execution_count": 8,
   "metadata": {
    "executionInfo": {
     "elapsed": 6866,
     "status": "ok",
     "timestamp": 1663581678146,
     "user": {
      "displayName": "이도현",
      "userId": "09446858875803925695"
     },
     "user_tz": -540
    },
    "id": "c4kkLGBAHlKf"
   },
   "outputs": [],
   "source": [
    "# 정수 인코딩 시행\n",
    "X_data = src_tokenizer.texts_to_sequences(sentences)\n",
    "y_data = tar_tokenizer.texts_to_sequences(ner_tags)"
   ]
  },
  {
   "cell_type": "code",
   "execution_count": 9,
   "metadata": {
    "colab": {
     "base_uri": "https://localhost:8080/"
    },
    "executionInfo": {
     "elapsed": 10,
     "status": "ok",
     "timestamp": 1663581678146,
     "user": {
      "displayName": "이도현",
      "userId": "09446858875803925695"
     },
     "user_tz": -540
    },
    "id": "iqiGclqYHs1G",
    "outputId": "5e5377bf-79f8-4153-a8ee-0e924e063c13"
   },
   "outputs": [
    {
     "name": "stdout",
     "output_type": "stream",
     "text": [
      "[238, 9497, 560, 33580, 240, 3036, 28, 7501, 2611, 33, 7073, 4448]\n",
      "[1, 1, 1, 2, 1, 4, 1, 1, 1, 1, 1, 1]\n"
     ]
    }
   ],
   "source": [
    "print(X_data[0])\n",
    "print(y_data[0])"
   ]
  },
  {
   "cell_type": "code",
   "execution_count": 10,
   "metadata": {
    "executionInfo": {
     "elapsed": 10,
     "status": "ok",
     "timestamp": 1663581678147,
     "user": {
      "displayName": "이도현",
      "userId": "09446858875803925695"
     },
     "user_tz": -540
    },
    "id": "pYHupyr2Huk6"
   },
   "outputs": [],
   "source": [
    "word_to_index = src_tokenizer.word_index\n",
    "index_to_word = src_tokenizer.index_word\n",
    "ner_to_index = tar_tokenizer.word_index\n",
    "index_to_ner = tar_tokenizer.index_word\n",
    "\n",
    "index_to_ner[0] = 'PAD'"
   ]
  },
  {
   "cell_type": "code",
   "execution_count": 11,
   "metadata": {
    "executionInfo": {
     "elapsed": 2224,
     "status": "ok",
     "timestamp": 1663581680362,
     "user": {
      "displayName": "이도현",
      "userId": "09446858875803925695"
     },
     "user_tz": -540
    },
    "id": "S4cFENF7HwM2"
   },
   "outputs": [],
   "source": [
    "max_len = 40 # max_len : 샘플의 토큰 길이의 최대를 보고 적당히 정한다.\n",
    "X_data = pad_sequences(X_data, maxlen=max_len, padding = 'post')\n",
    "y_data = pad_sequences(y_data, maxlen=max_len, padding = 'post') # 각 토큰에 대해 태깅을 하기에 maxlen이 같다"
   ]
  },
  {
   "cell_type": "code",
   "execution_count": 12,
   "metadata": {
    "executionInfo": {
     "elapsed": 3,
     "status": "ok",
     "timestamp": 1663581680362,
     "user": {
      "displayName": "이도현",
      "userId": "09446858875803925695"
     },
     "user_tz": -540
    },
    "id": "YPDTy3msHyUa"
   },
   "outputs": [],
   "source": [
    "X_train, X_test, y_train_int, y_test_int = train_test_split(X_data, y_data, test_size = .2, random_state=777, shuffle=True)"
   ]
  },
  {
   "cell_type": "code",
   "execution_count": 13,
   "metadata": {
    "colab": {
     "base_uri": "https://localhost:8080/"
    },
    "executionInfo": {
     "elapsed": 3,
     "status": "ok",
     "timestamp": 1663581680362,
     "user": {
      "displayName": "이도현",
      "userId": "09446858875803925695"
     },
     "user_tz": -540
    },
    "id": "GLyz2qhuHzkD",
    "outputId": "75d3d9f6-6c65-4664-90a0-712696ce73e2"
   },
   "outputs": [
    {
     "name": "stdout",
     "output_type": "stream",
     "text": [
      "356504\n",
      "285203\n"
     ]
    }
   ],
   "source": [
    "print(len(X_data))\n",
    "print(len(X_train))"
   ]
  },
  {
   "cell_type": "code",
   "execution_count": 14,
   "metadata": {
    "executionInfo": {
     "elapsed": 7391,
     "status": "ok",
     "timestamp": 1663581687751,
     "user": {
      "displayName": "이도현",
      "userId": "09446858875803925695"
     },
     "user_tz": -540
    },
    "id": "lAQlw6XHH0iw"
   },
   "outputs": [],
   "source": [
    "y_train = to_categorical(y_train_int, num_classes = tag_size)\n",
    "y_test = to_categorical(y_test_int, num_classes = tag_size)"
   ]
  },
  {
   "cell_type": "code",
   "execution_count": 15,
   "metadata": {
    "executionInfo": {
     "elapsed": 5059,
     "status": "ok",
     "timestamp": 1663581693698,
     "user": {
      "displayName": "이도현",
      "userId": "09446858875803925695"
     },
     "user_tz": -540
    },
    "id": "hWls5i5iIDaB"
   },
   "outputs": [],
   "source": [
    "\n",
    "embedding_dim = 64\n",
    "hidden_units = 32\n",
    "dropout_ratio = 0.3\n",
    "\n",
    "sequence_input = Input(shape=(max_len,),dtype=tf.int32, name='sequence_input')\n",
    "\n",
    "model_embedding = Embedding(input_dim=vocab_size,\n",
    "                              output_dim=embedding_dim,\n",
    "                              input_length=max_len)(sequence_input)\n",
    "\n",
    "model_bilstm = Bidirectional(LSTM(units=hidden_units, return_sequences=True))(model_embedding)\n",
    "\n",
    "model_dropout = TimeDistributed(Dropout(dropout_ratio))(model_bilstm)\n",
    "\n",
    "model_dense = TimeDistributed(Dense(tag_size, activation='relu'))(model_dropout)\n",
    "\n",
    "base = Model(inputs=sequence_input, outputs=model_dense)\n",
    "model = CRFModel(base, tag_size)"
   ]
  },
  {
   "cell_type": "code",
   "execution_count": 16,
   "metadata": {
    "colab": {
     "base_uri": "https://localhost:8080/"
    },
    "executionInfo": {
     "elapsed": 1725,
     "status": "ok",
     "timestamp": 1663581695414,
     "user": {
      "displayName": "이도현",
      "userId": "09446858875803925695"
     },
     "user_tz": -540
    },
    "id": "wWrW1mOvH17K",
    "outputId": "9ff7ddd2-9325-4e5f-eb39-cf9bae5d9930"
   },
   "outputs": [
    {
     "data": {
      "text/plain": [
       "<tensorflow.python.training.tracking.util.CheckpointLoadStatus at 0x7f2e9cc9ec90>"
      ]
     },
     "execution_count": 16,
     "metadata": {},
     "output_type": "execute_result"
    }
   ],
   "source": [
    "model.load_weights('/content/drive/MyDrive/Colab Notebooks/AURA2/bilstm_crf_all_ner/cp.ckpt')"
   ]
  },
  {
   "cell_type": "code",
   "execution_count": 17,
   "metadata": {
    "executionInfo": {
     "elapsed": 6,
     "status": "ok",
     "timestamp": 1663581695415,
     "user": {
      "displayName": "이도현",
      "userId": "09446858875803925695"
     },
     "user_tz": -540
    },
    "id": "N_GAjjexIRhF"
   },
   "outputs": [],
   "source": [
    "def sequences_to_tag(sequences):\n",
    "    result = []\n",
    "    # 전체 시퀀스로부터 시퀀스를 하나씩 꺼낸다.\n",
    "    for sequence in sequences:\n",
    "        word_sequence = []\n",
    "        # 시퀀스로부터 확률 벡터 또는 원-핫 벡터를 하나씩 꺼낸다.\n",
    "        for pred in sequence:\n",
    "            # 정수로 변환. 예를 들어 pred가 [0, 0, 1, 0 ,0]라면 1의 인덱스인 2를 리턴한다.\n",
    "            pred_index = np.argmax(pred)            \n",
    "            # index_to_ner을 사용하여 정수를 태깅 정보로 변환. 'PAD'는 'O'로 변경.\n",
    "            word_sequence.append(index_to_ner[pred_index].replace(\"PAD\", \"O\"))\n",
    "        result.append(word_sequence)\n",
    "    return result\n",
    "\n",
    "#y_predicted = model.predict([X_test])\n",
    "#pred_tags = sequences_to_tag(y_predicted)\n",
    "#test_tags = sequences_to_tag(y_test)\n",
    "\n",
    "#print(\"F1-score: {:.1%}\".format(f1_score(test_tags, pred_tags)))\n",
    "#print(classification_report(test_tags, pred_tags))"
   ]
  },
  {
   "cell_type": "code",
   "execution_count": 44,
   "metadata": {
    "executionInfo": {
     "elapsed": 721,
     "status": "ok",
     "timestamp": 1663584725352,
     "user": {
      "displayName": "이도현",
      "userId": "09446858875803925695"
     },
     "user_tz": -540
    },
    "id": "qegTcjYhJVOR"
   },
   "outputs": [],
   "source": [
    "def sequences_to_tag_for_crf(sequences): \n",
    "    result = []\n",
    "    # 전체 시퀀스로부터 시퀀스를 하나씩 꺼낸다.\n",
    "    for sequence in sequences: \n",
    "        word_sequence = []\n",
    "        # 시퀀스로부터 예측 정수 레이블을 하나씩 꺼낸다.\n",
    "        for pred_index in sequence:\n",
    "            # index_to_ner을 사용하여 정수를 태깅 정보로 변환. 'PAD'는 'O'로 변경.\n",
    "            word_sequence.append(index_to_ner[pred_index].replace(\"PAD\", \"O\"))\n",
    "        result.append(word_sequence)\n",
    "    return result\n",
    "\n"
   ]
  },
  {
   "cell_type": "code",
   "execution_count": 45,
   "metadata": {
    "executionInfo": {
     "elapsed": 44995,
     "status": "ok",
     "timestamp": 1663584777733,
     "user": {
      "displayName": "이도현",
      "userId": "09446858875803925695"
     },
     "user_tz": -540
    },
    "id": "QrlpJqhPXE3O"
   },
   "outputs": [],
   "source": [
    "y_predicted = model.predict(X_test[:int(len(X_test)*0.5)])[0]\n",
    "pred_tags = sequences_to_tag_for_crf(y_predicted)\n",
    "test_tags = sequences_to_tag(y_test[:int(len(y_test)*0.5)])"
   ]
  },
  {
   "cell_type": "code",
   "execution_count": 46,
   "metadata": {
    "colab": {
     "base_uri": "https://localhost:8080/"
    },
    "executionInfo": {
     "elapsed": 14,
     "status": "ok",
     "timestamp": 1663584777734,
     "user": {
      "displayName": "이도현",
      "userId": "09446858875803925695"
     },
     "user_tz": -540
    },
    "id": "-n3C1wA2X4Gc",
    "outputId": "2d7ca0e7-a1d1-4e04-f7bb-7131b6d94000",
    "scrolled": true
   },
   "outputs": [
    {
     "name": "stdout",
     "output_type": "stream",
     "text": [
      "71301\n",
      "35650\n",
      "71301\n"
     ]
    }
   ],
   "source": [
    "print(len(X_test))\n",
    "print(len(y_predicted))\n",
    "print(len(y_test))"
   ]
  },
  {
   "cell_type": "code",
   "execution_count": 47,
   "metadata": {
    "colab": {
     "base_uri": "https://localhost:8080/"
    },
    "executionInfo": {
     "elapsed": 21611,
     "status": "ok",
     "timestamp": 1663584801253,
     "user": {
      "displayName": "이도현",
      "userId": "09446858875803925695"
     },
     "user_tz": -540
    },
    "id": "nYALn29nVhb3",
    "outputId": "d0b4934e-1141-41d0-b472-7164bc2e94e8"
   },
   "outputs": [
    {
     "name": "stdout",
     "output_type": "stream",
     "text": [
      "F1-score: 79.1%\n"
     ]
    },
    {
     "name": "stderr",
     "output_type": "stream",
     "text": [
      "/usr/local/lib/python3.7/dist-packages/seqeval/metrics/v1.py:57: UndefinedMetricWarning: Precision and F-score are ill-defined and being set to 0.0 in labels with no predicted samples. Use `zero_division` parameter to control this behavior.\n",
      "  _warn_prf(average, modifier, msg_start, len(result))\n",
      "/usr/local/lib/python3.7/dist-packages/seqeval/metrics/v1.py:57: UndefinedMetricWarning: Recall and F-score are ill-defined and being set to 0.0 in labels with no true samples. Use `zero_division` parameter to control this behavior.\n",
      "  _warn_prf(average, modifier, msg_start, len(result))\n"
     ]
    },
    {
     "name": "stdout",
     "output_type": "stream",
     "text": [
      "                       precision    recall  f1-score   support\n",
      "\n",
      "        AFA_ART_CRAFT       0.74      0.29      0.42        95\n",
      "         AFA_DOCUMENT       0.57      0.41      0.47       657\n",
      "            AFA_MUSIC       0.48      0.34      0.40       264\n",
      "      AFA_PERFORMANCE       0.49      0.43      0.46       139\n",
      "            AFA_VIDEO       0.73      0.65      0.69       860\n",
      "   AFW_OTHER_PRODUCTS       0.63      0.51      0.56       412\n",
      " AFW_SERVICE_PRODUCTS       0.58      0.27      0.37        26\n",
      "          AF_BUILDING       0.54      0.37      0.44       456\n",
      "    AF_CULTURAL_ASSET       0.77      0.61      0.68       147\n",
      "AF_MUSICAL_INSTRUMENT       0.86      0.84      0.85       159\n",
      "              AF_ROAD       0.80      0.57      0.67       120\n",
      "         AF_TRANSPORT       0.75      0.76      0.76       968\n",
      "            AF_WEAPON       0.79      0.81      0.80       384\n",
      "          AM_AMPHIBIA       0.89      0.73      0.80        11\n",
      "              AM_BIRD       0.65      0.64      0.65        67\n",
      "              AM_FISH       0.77      0.65      0.70        57\n",
      "            AM_INSECT       0.81      0.67      0.73        86\n",
      "          AM_MAMMALIA       0.83      0.76      0.79       322\n",
      "            AM_OTHERS       0.78      0.59      0.67       185\n",
      "              AM_PART       0.83      0.91      0.87      2123\n",
      "          AM_REPTILIA       0.87      0.90      0.88       148\n",
      "              AM_TYPE       0.63      0.73      0.67        91\n",
      "               CV_ART       0.68      0.65      0.66       834\n",
      "     CV_BUILDING_TYPE       1.00      1.00      1.00         4\n",
      "          CV_CLOTHING       0.73      0.68      0.70       237\n",
      "           CV_CULTURE       0.88      0.62      0.73        61\n",
      "          CV_CURRENCY       0.79      0.59      0.68        44\n",
      "             CV_DRINK       0.85      0.77      0.81       382\n",
      "              CV_FOOD       0.82      0.82      0.82      2156\n",
      "        CV_FOOD_STYLE       0.79      0.66      0.72        62\n",
      "             CV_FUNDS       0.84      0.84      0.84        82\n",
      "          CV_LANGUAGE       0.86      0.90      0.88       213\n",
      "               CV_LAW       0.79      0.71      0.75       608\n",
      "        CV_OCCUPATION       0.90      0.89      0.89      4461\n",
      "            CV_POLICY       0.77      0.58      0.66       241\n",
      "          CV_POSITION       0.91      0.89      0.90      5154\n",
      "             CV_PRIZE       0.84      0.76      0.80       224\n",
      "          CV_RELATION       0.93      0.93      0.93      1978\n",
      "            CV_SPORTS       0.76      0.82      0.79       292\n",
      "       CV_SPORTS_INST       0.71      0.62      0.66        76\n",
      "   CV_SPORTS_POSITION       0.89      0.79      0.84       165\n",
      "               CV_TAX       0.90      0.96      0.93        74\n",
      "             CV_TRIBE       0.95      0.90      0.92       338\n",
      "               DT_DAY       0.94      0.93      0.93      2211\n",
      "          DT_DURATION       0.76      0.70      0.73      2469\n",
      "           DT_DYNASTY       0.70      0.63      0.66       137\n",
      "            DT_GEOAGE       0.71      0.80      0.75        15\n",
      "             DT_MONTH       0.75      0.83      0.79       557\n",
      "            DT_OTHERS       0.81      0.64      0.72      2012\n",
      "            DT_SEASON       0.86      0.93      0.89       230\n",
      "              DT_WEEK       0.80      0.83      0.82        96\n",
      "              DT_YEAR       0.90      0.89      0.90      2366\n",
      "          EV_ACTIVITY       0.79      0.38      0.52        60\n",
      "          EV_FESTIVAL       0.69      0.44      0.54       316\n",
      "            EV_OTHERS       0.68      0.49      0.57       868\n",
      "            EV_SPORTS       0.74      0.72      0.73       612\n",
      "    EV_WAR_REVOLUTION       0.75      0.66      0.70       121\n",
      "               FD_ART       0.46      0.35      0.40        31\n",
      "        FD_HUMANITIES       0.73      0.73      0.73       170\n",
      "          FD_MEDICINE       0.80      0.84      0.82       135\n",
      "            FD_OTHERS       1.00      0.20      0.33         5\n",
      "           FD_SCIENCE       0.86      0.79      0.82       531\n",
      "    FD_SOCIAL_SCIENCE       0.74      0.67      0.70        81\n",
      "              LCG_BAY       0.96      0.91      0.93        54\n",
      "        LCG_CONTINENT       0.89      0.97      0.93       404\n",
      "           LCG_ISLAND       0.80      0.74      0.77        85\n",
      "         LCG_MOUNTAIN       0.84      0.75      0.80        93\n",
      "            LCG_OCEAN       0.81      0.85      0.83        59\n",
      "            LCG_RIVER       0.76      0.88      0.82        58\n",
      "      LCP_CAPITALCITY       0.90      0.92      0.91       667\n",
      "             LCP_CITY       0.82      0.85      0.84      1013\n",
      "          LCP_COUNTRY       0.85      0.93      0.89      4575\n",
      "           LCP_COUNTY       0.77      0.82      0.80       744\n",
      "         LCP_PROVINCE       0.86      0.84      0.85       569\n",
      "            LC_OTHERS       0.65      0.64      0.65       846\n",
      "             LC_SPACE       0.88      0.86      0.87       492\n",
      "          MT_CHEMICAL       0.80      0.77      0.78       892\n",
      "           MT_ELEMENT       0.83      0.90      0.87       188\n",
      "             MT_METAL       0.60      0.65      0.62        89\n",
      "              MT_ROCK       0.93      0.71      0.81        38\n",
      "              OGG_ART       0.57      0.51      0.54       295\n",
      "          OGG_ECONOMY       0.83      0.77      0.80      2534\n",
      "        OGG_EDUCATION       0.81      0.69      0.75       694\n",
      "             OGG_FOOD       0.70      0.59      0.64        91\n",
      "            OGG_HOTEL       0.50      0.25      0.33        20\n",
      "              OGG_LAW       0.84      0.90      0.87       206\n",
      "          OGG_LIBRARY       0.64      0.39      0.49        23\n",
      "            OGG_MEDIA       0.87      0.78      0.82       481\n",
      "         OGG_MEDICINE       0.85      0.64      0.73       198\n",
      "         OGG_MILITARY       0.71      0.70      0.71       311\n",
      "           OGG_OTHERS       0.67      0.47      0.55       658\n",
      "         OGG_POLITICS       0.89      0.79      0.84      4042\n",
      "         OGG_RELIGION       0.81      0.75      0.78       123\n",
      "          OGG_SCIENCE       0.48      0.36      0.41        64\n",
      "           OGG_SPORTS       0.77      0.69      0.73       934\n",
      "         PS_CHARACTER       0.80      0.67      0.73       750\n",
      "              PS_NAME       0.83      0.82      0.83     10415\n",
      "               PS_PET       1.00      0.53      0.69        17\n",
      "            PT_FLOWER       0.68      0.60      0.64        35\n",
      "             PT_FRUIT       0.53      0.56      0.54       106\n",
      "             PT_GRASS       0.58      0.61      0.59       115\n",
      "            PT_OTHERS       0.57      0.46      0.51        28\n",
      "              PT_PART       0.54      0.73      0.62        92\n",
      "              PT_TREE       0.84      0.69      0.76        62\n",
      "              PT_TYPE       0.53      0.40      0.46        20\n",
      "           QT_ADDRESS       0.00      0.00      0.00        13\n",
      "               QT_AGE       0.85      0.79      0.82      1103\n",
      "             QT_ALBUM       0.88      0.47      0.61        15\n",
      "           QT_CHANNEL       0.00      0.00      0.00         1\n",
      "             QT_COUNT       0.73      0.68      0.70      4210\n",
      "            QT_LENGTH       0.75      0.51      0.60       346\n",
      "         QT_MAN_COUNT       0.87      0.70      0.78      1993\n",
      "             QT_ORDER       0.83      0.73      0.78      2036\n",
      "            QT_OTHERS       0.25      0.38      0.30       346\n",
      "        QT_PERCENTAGE       0.87      0.76      0.81      1808\n",
      "             QT_PHONE       0.94      0.50      0.65        34\n",
      "             QT_PRICE       0.81      0.64      0.71      1525\n",
      "              QT_SIZE       0.46      0.21      0.29       108\n",
      "             QT_SPEED       0.74      0.34      0.47        41\n",
      "            QT_SPORTS       0.73      0.71      0.72       594\n",
      "       QT_TEMPERATURE       0.73      0.30      0.42        54\n",
      "            QT_VOLUME       0.60      0.22      0.32        27\n",
      "            QT_WEIGHT       0.73      0.45      0.56       175\n",
      "          TI_DURATION       0.74      0.72      0.73       810\n",
      "              TI_HOUR       0.78      0.68      0.73       148\n",
      "            TI_MINUTE       0.00      0.00      0.00         7\n",
      "            TI_OTHERS       0.62      0.44      0.51       160\n",
      "            TI_SECOND       0.00      0.00      0.00         3\n",
      "           TMIG_GENRE       0.62      0.41      0.50        61\n",
      "               TMI_HW       0.76      0.77      0.76      1564\n",
      "            TMI_MODEL       0.00      0.00      0.00         0\n",
      "          TMI_PROJECT       0.62      0.37      0.46       167\n",
      "          TMI_SERVICE       0.75      0.66      0.70       539\n",
      "             TMI_SITE       0.00      0.00      0.00        22\n",
      "               TMI_SW       0.68      0.47      0.55       176\n",
      "          TMM_DISEASE       0.81      0.77      0.79      1430\n",
      "             TMM_DRUG       0.83      0.70      0.76       215\n",
      " TM_CELL_TISSUE_ORGAN       0.79      0.76      0.77      1121\n",
      "           TM_CLIMATE       0.00      0.00      0.00         2\n",
      "             TM_COLOR       0.83      0.76      0.80       170\n",
      "         TM_DIRECTION       0.71      0.71      0.71       685\n",
      "             TM_SHAPE       0.75      0.47      0.58       111\n",
      "            TM_SPORTS       0.78      0.75      0.76       369\n",
      "               TR_ART       0.70      0.59      0.64        51\n",
      "        TR_HUMANITIES       0.67      0.62      0.64        47\n",
      "          TR_MEDICINE       0.66      0.53      0.59       282\n",
      "            TR_OTHERS       0.94      0.52      0.67        31\n",
      "           TR_SCIENCE       0.80      0.70      0.75       903\n",
      "    TR_SOCIAL_SCIENCE       0.79      0.72      0.75       194\n",
      "\n",
      "            micro avg       0.81      0.77      0.79     95363\n",
      "            macro avg       0.73      0.63      0.67     95363\n",
      "         weighted avg       0.81      0.77      0.79     95363\n",
      "\n"
     ]
    }
   ],
   "source": [
    "print(\"F1-score: {:.1%}\".format(f1_score(test_tags, pred_tags)))\n",
    "print(classification_report(test_tags, pred_tags))"
   ]
  },
  {
   "cell_type": "code",
   "execution_count": null,
   "metadata": {
    "id": "Mmdq2BtfYKl-"
   },
   "outputs": [],
   "source": []
  }
 ],
 "metadata": {
  "accelerator": "GPU",
  "colab": {
   "authorship_tag": "ABX9TyOMx+WYm7BmjjJn1J4Tma7k",
   "machine_shape": "hm",
   "provenance": []
  },
  "kernelspec": {
   "display_name": "Python 3 (ipykernel)",
   "language": "python",
   "name": "python3"
  },
  "language_info": {
   "codemirror_mode": {
    "name": "ipython",
    "version": 3
   },
   "file_extension": ".py",
   "mimetype": "text/x-python",
   "name": "python",
   "nbconvert_exporter": "python",
   "pygments_lexer": "ipython3",
   "version": "3.8.5"
  }
 },
 "nbformat": 4,
 "nbformat_minor": 1
}
