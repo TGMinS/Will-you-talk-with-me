{
 "cells": [
  {
   "cell_type": "code",
   "execution_count": 1,
   "metadata": {
    "colab": {
     "base_uri": "https://localhost:8080/"
    },
    "executionInfo": {
     "elapsed": 4446,
     "status": "ok",
     "timestamp": 1663576109312,
     "user": {
      "displayName": "이도현",
      "userId": "09446858875803925695"
     },
     "user_tz": -540
    },
    "id": "0dKFWBU4D-hQ",
    "outputId": "757c8e7e-4ca6-48e4-e612-2e74c1f35f58"
   },
   "outputs": [
    {
     "name": "stdout",
     "output_type": "stream",
     "text": [
      "Looking in indexes: https://pypi.org/simple, https://us-python.pkg.dev/colab-wheels/public/simple/\n",
      "Requirement already satisfied: konlpy in /usr/local/lib/python3.7/dist-packages (0.6.0)\n",
      "Requirement already satisfied: JPype1>=0.7.0 in /usr/local/lib/python3.7/dist-packages (from konlpy) (1.4.0)\n",
      "Requirement already satisfied: numpy>=1.6 in /usr/local/lib/python3.7/dist-packages (from konlpy) (1.21.6)\n",
      "Requirement already satisfied: lxml>=4.1.0 in /usr/local/lib/python3.7/dist-packages (from konlpy) (4.9.1)\n",
      "Requirement already satisfied: typing-extensions in /usr/local/lib/python3.7/dist-packages (from JPype1>=0.7.0->konlpy) (4.1.1)\n"
     ]
    }
   ],
   "source": [
    "import pandas as pd\n",
    "import re\n",
    "import ast\n",
    "!pip install konlpy\n",
    "from konlpy.tag import *\n"
   ]
  },
  {
   "cell_type": "code",
   "execution_count": 2,
   "metadata": {
    "executionInfo": {
     "elapsed": 4700,
     "status": "ok",
     "timestamp": 1663576114004,
     "user": {
      "displayName": "이도현",
      "userId": "09446858875803925695"
     },
     "user_tz": -540
    },
    "id": "UdAKdUhQUjt5"
   },
   "outputs": [],
   "source": [
    "import pandas as pd\n",
    "import numpy as np\n",
    "import matplotlib.pyplot as plt\n",
    "import urllib.request\n",
    "from tensorflow.keras.preprocessing.text import Tokenizer\n",
    "from tensorflow.keras.preprocessing.sequence import pad_sequences\n",
    "from sklearn.model_selection import train_test_split\n",
    "from tensorflow.keras.utils import to_categorical"
   ]
  },
  {
   "cell_type": "code",
   "execution_count": 3,
   "metadata": {
    "colab": {
     "base_uri": "https://localhost:8080/"
    },
    "executionInfo": {
     "elapsed": 4751,
     "status": "ok",
     "timestamp": 1663576118737,
     "user": {
      "displayName": "이도현",
      "userId": "09446858875803925695"
     },
     "user_tz": -540
    },
    "id": "r1ry6ZvPUwTb",
    "outputId": "0319cc52-bf78-43b9-9dfd-8a62bf5df2ab"
   },
   "outputs": [
    {
     "name": "stdout",
     "output_type": "stream",
     "text": [
      "Looking in indexes: https://pypi.org/simple, https://us-python.pkg.dev/colab-wheels/public/simple/\n",
      "Requirement already satisfied: keras-crf in /usr/local/lib/python3.7/dist-packages (0.3.0)\n",
      "Requirement already satisfied: tensorflow in /usr/local/lib/python3.7/dist-packages (from keras-crf) (2.8.2+zzzcolab20220719082949)\n",
      "Requirement already satisfied: tensorflow-addons in /usr/local/lib/python3.7/dist-packages (from keras-crf) (0.17.1)\n",
      "Requirement already satisfied: tensorboard<2.9,>=2.8 in /usr/local/lib/python3.7/dist-packages (from tensorflow->keras-crf) (2.8.0)\n",
      "Requirement already satisfied: protobuf<3.20,>=3.9.2 in /usr/local/lib/python3.7/dist-packages (from tensorflow->keras-crf) (3.17.3)\n",
      "Requirement already satisfied: libclang>=9.0.1 in /usr/local/lib/python3.7/dist-packages (from tensorflow->keras-crf) (14.0.6)\n",
      "Requirement already satisfied: typing-extensions>=3.6.6 in /usr/local/lib/python3.7/dist-packages (from tensorflow->keras-crf) (4.1.1)\n",
      "Requirement already satisfied: six>=1.12.0 in /usr/local/lib/python3.7/dist-packages (from tensorflow->keras-crf) (1.15.0)\n",
      "Requirement already satisfied: opt-einsum>=2.3.2 in /usr/local/lib/python3.7/dist-packages (from tensorflow->keras-crf) (3.3.0)\n",
      "Requirement already satisfied: h5py>=2.9.0 in /usr/local/lib/python3.7/dist-packages (from tensorflow->keras-crf) (3.1.0)\n",
      "Requirement already satisfied: keras-preprocessing>=1.1.1 in /usr/local/lib/python3.7/dist-packages (from tensorflow->keras-crf) (1.1.2)\n",
      "Requirement already satisfied: astunparse>=1.6.0 in /usr/local/lib/python3.7/dist-packages (from tensorflow->keras-crf) (1.6.3)\n",
      "Requirement already satisfied: wrapt>=1.11.0 in /usr/local/lib/python3.7/dist-packages (from tensorflow->keras-crf) (1.14.1)\n",
      "Requirement already satisfied: tensorflow-io-gcs-filesystem>=0.23.1 in /usr/local/lib/python3.7/dist-packages (from tensorflow->keras-crf) (0.26.0)\n",
      "Requirement already satisfied: setuptools in /usr/local/lib/python3.7/dist-packages (from tensorflow->keras-crf) (57.4.0)\n",
      "Requirement already satisfied: tensorflow-estimator<2.9,>=2.8 in /usr/local/lib/python3.7/dist-packages (from tensorflow->keras-crf) (2.8.0)\n",
      "Requirement already satisfied: numpy>=1.20 in /usr/local/lib/python3.7/dist-packages (from tensorflow->keras-crf) (1.21.6)\n",
      "Requirement already satisfied: google-pasta>=0.1.1 in /usr/local/lib/python3.7/dist-packages (from tensorflow->keras-crf) (0.2.0)\n",
      "Requirement already satisfied: termcolor>=1.1.0 in /usr/local/lib/python3.7/dist-packages (from tensorflow->keras-crf) (1.1.0)\n",
      "Requirement already satisfied: gast>=0.2.1 in /usr/local/lib/python3.7/dist-packages (from tensorflow->keras-crf) (0.5.3)\n",
      "Requirement already satisfied: flatbuffers>=1.12 in /usr/local/lib/python3.7/dist-packages (from tensorflow->keras-crf) (2.0.7)\n",
      "Requirement already satisfied: keras<2.9,>=2.8.0rc0 in /usr/local/lib/python3.7/dist-packages (from tensorflow->keras-crf) (2.8.0)\n",
      "Requirement already satisfied: absl-py>=0.4.0 in /usr/local/lib/python3.7/dist-packages (from tensorflow->keras-crf) (1.2.0)\n",
      "Requirement already satisfied: grpcio<2.0,>=1.24.3 in /usr/local/lib/python3.7/dist-packages (from tensorflow->keras-crf) (1.48.1)\n",
      "Requirement already satisfied: wheel<1.0,>=0.23.0 in /usr/local/lib/python3.7/dist-packages (from astunparse>=1.6.0->tensorflow->keras-crf) (0.37.1)\n",
      "Requirement already satisfied: cached-property in /usr/local/lib/python3.7/dist-packages (from h5py>=2.9.0->tensorflow->keras-crf) (1.5.2)\n",
      "Requirement already satisfied: werkzeug>=0.11.15 in /usr/local/lib/python3.7/dist-packages (from tensorboard<2.9,>=2.8->tensorflow->keras-crf) (1.0.1)\n",
      "Requirement already satisfied: markdown>=2.6.8 in /usr/local/lib/python3.7/dist-packages (from tensorboard<2.9,>=2.8->tensorflow->keras-crf) (3.4.1)\n",
      "Requirement already satisfied: requests<3,>=2.21.0 in /usr/local/lib/python3.7/dist-packages (from tensorboard<2.9,>=2.8->tensorflow->keras-crf) (2.23.0)\n",
      "Requirement already satisfied: tensorboard-data-server<0.7.0,>=0.6.0 in /usr/local/lib/python3.7/dist-packages (from tensorboard<2.9,>=2.8->tensorflow->keras-crf) (0.6.1)\n",
      "Requirement already satisfied: tensorboard-plugin-wit>=1.6.0 in /usr/local/lib/python3.7/dist-packages (from tensorboard<2.9,>=2.8->tensorflow->keras-crf) (1.8.1)\n",
      "Requirement already satisfied: google-auth-oauthlib<0.5,>=0.4.1 in /usr/local/lib/python3.7/dist-packages (from tensorboard<2.9,>=2.8->tensorflow->keras-crf) (0.4.6)\n",
      "Requirement already satisfied: google-auth<3,>=1.6.3 in /usr/local/lib/python3.7/dist-packages (from tensorboard<2.9,>=2.8->tensorflow->keras-crf) (1.35.0)\n",
      "Requirement already satisfied: rsa<5,>=3.1.4 in /usr/local/lib/python3.7/dist-packages (from google-auth<3,>=1.6.3->tensorboard<2.9,>=2.8->tensorflow->keras-crf) (4.9)\n",
      "Requirement already satisfied: cachetools<5.0,>=2.0.0 in /usr/local/lib/python3.7/dist-packages (from google-auth<3,>=1.6.3->tensorboard<2.9,>=2.8->tensorflow->keras-crf) (4.2.4)\n",
      "Requirement already satisfied: pyasn1-modules>=0.2.1 in /usr/local/lib/python3.7/dist-packages (from google-auth<3,>=1.6.3->tensorboard<2.9,>=2.8->tensorflow->keras-crf) (0.2.8)\n",
      "Requirement already satisfied: requests-oauthlib>=0.7.0 in /usr/local/lib/python3.7/dist-packages (from google-auth-oauthlib<0.5,>=0.4.1->tensorboard<2.9,>=2.8->tensorflow->keras-crf) (1.3.1)\n",
      "Requirement already satisfied: importlib-metadata>=4.4 in /usr/local/lib/python3.7/dist-packages (from markdown>=2.6.8->tensorboard<2.9,>=2.8->tensorflow->keras-crf) (4.12.0)\n",
      "Requirement already satisfied: zipp>=0.5 in /usr/local/lib/python3.7/dist-packages (from importlib-metadata>=4.4->markdown>=2.6.8->tensorboard<2.9,>=2.8->tensorflow->keras-crf) (3.8.1)\n",
      "Requirement already satisfied: pyasn1<0.5.0,>=0.4.6 in /usr/local/lib/python3.7/dist-packages (from pyasn1-modules>=0.2.1->google-auth<3,>=1.6.3->tensorboard<2.9,>=2.8->tensorflow->keras-crf) (0.4.8)\n",
      "Requirement already satisfied: certifi>=2017.4.17 in /usr/local/lib/python3.7/dist-packages (from requests<3,>=2.21.0->tensorboard<2.9,>=2.8->tensorflow->keras-crf) (2022.6.15)\n",
      "Requirement already satisfied: idna<3,>=2.5 in /usr/local/lib/python3.7/dist-packages (from requests<3,>=2.21.0->tensorboard<2.9,>=2.8->tensorflow->keras-crf) (2.10)\n",
      "Requirement already satisfied: urllib3!=1.25.0,!=1.25.1,<1.26,>=1.21.1 in /usr/local/lib/python3.7/dist-packages (from requests<3,>=2.21.0->tensorboard<2.9,>=2.8->tensorflow->keras-crf) (1.24.3)\n",
      "Requirement already satisfied: chardet<4,>=3.0.2 in /usr/local/lib/python3.7/dist-packages (from requests<3,>=2.21.0->tensorboard<2.9,>=2.8->tensorflow->keras-crf) (3.0.4)\n",
      "Requirement already satisfied: oauthlib>=3.0.0 in /usr/local/lib/python3.7/dist-packages (from requests-oauthlib>=0.7.0->google-auth-oauthlib<0.5,>=0.4.1->tensorboard<2.9,>=2.8->tensorflow->keras-crf) (3.2.0)\n",
      "Requirement already satisfied: packaging in /usr/local/lib/python3.7/dist-packages (from tensorflow-addons->keras-crf) (21.3)\n",
      "Requirement already satisfied: typeguard>=2.7 in /usr/local/lib/python3.7/dist-packages (from tensorflow-addons->keras-crf) (2.7.1)\n",
      "Requirement already satisfied: pyparsing!=3.0.5,>=2.0.2 in /usr/local/lib/python3.7/dist-packages (from packaging->tensorflow-addons->keras-crf) (3.0.9)\n",
      "Looking in indexes: https://pypi.org/simple, https://us-python.pkg.dev/colab-wheels/public/simple/\n",
      "Requirement already satisfied: seqeval in /usr/local/lib/python3.7/dist-packages (1.2.2)\n",
      "Requirement already satisfied: scikit-learn>=0.21.3 in /usr/local/lib/python3.7/dist-packages (from seqeval) (1.0.2)\n",
      "Requirement already satisfied: numpy>=1.14.0 in /usr/local/lib/python3.7/dist-packages (from seqeval) (1.21.6)\n",
      "Requirement already satisfied: threadpoolctl>=2.0.0 in /usr/local/lib/python3.7/dist-packages (from scikit-learn>=0.21.3->seqeval) (3.1.0)\n",
      "Requirement already satisfied: scipy>=1.1.0 in /usr/local/lib/python3.7/dist-packages (from scikit-learn>=0.21.3->seqeval) (1.7.3)\n",
      "Requirement already satisfied: joblib>=0.11 in /usr/local/lib/python3.7/dist-packages (from scikit-learn>=0.21.3->seqeval) (1.1.0)\n"
     ]
    }
   ],
   "source": [
    "!pip install keras-crf\n",
    "!pip install seqeval\n",
    "import tensorflow as tf\n",
    "from tensorflow.keras import Model\n",
    "from tensorflow.keras.layers import Dense, LSTM, Input, Bidirectional, TimeDistributed, Embedding, Dropout\n",
    "from tensorflow.keras.callbacks import EarlyStopping, ModelCheckpoint\n",
    "from keras_crf import CRFModel\n",
    "from seqeval.metrics import f1_score, classification_report"
   ]
  },
  {
   "cell_type": "code",
   "execution_count": 4,
   "metadata": {
    "colab": {
     "base_uri": "https://localhost:8080/"
    },
    "executionInfo": {
     "elapsed": 4066,
     "status": "ok",
     "timestamp": 1663576122795,
     "user": {
      "displayName": "이도현",
      "userId": "09446858875803925695"
     },
     "user_tz": -540
    },
    "id": "rVEhh-hxGeOg",
    "outputId": "277a1985-43f7-4c5e-9366-1a90fd5aab18"
   },
   "outputs": [
    {
     "name": "stdout",
     "output_type": "stream",
     "text": [
      "Drive already mounted at /content/drive; to attempt to forcibly remount, call drive.mount(\"/content/drive\", force_remount=True).\n"
     ]
    }
   ],
   "source": [
    "from google.colab import drive\n",
    "drive.mount('/content/drive')"
   ]
  },
  {
   "cell_type": "code",
   "execution_count": 5,
   "metadata": {
    "executionInfo": {
     "elapsed": 4,
     "status": "ok",
     "timestamp": 1663576122796,
     "user": {
      "displayName": "이도현",
      "userId": "09446858875803925695"
     },
     "user_tz": -540
    },
    "id": "6opGi5MhGf3Y"
   },
   "outputs": [],
   "source": [
    "path = '/content/drive/MyDrive/Colab Notebooks/AURA2/'"
   ]
  },
  {
   "cell_type": "code",
   "execution_count": 6,
   "metadata": {
    "colab": {
     "base_uri": "https://localhost:8080/"
    },
    "executionInfo": {
     "elapsed": 33015,
     "status": "ok",
     "timestamp": 1663576155807,
     "user": {
      "displayName": "이도현",
      "userId": "09446858875803925695"
     },
     "user_tz": -540
    },
    "id": "995e7RMiNc8A",
    "outputId": "42e1df35-66a9-4ef4-8617-f80ab368628c"
   },
   "outputs": [
    {
     "name": "stdout",
     "output_type": "stream",
     "text": [
      "진행:  0\n",
      "진행:  10000\n",
      "진행:  20000\n",
      "진행:  30000\n",
      "진행:  40000\n",
      "진행:  50000\n",
      "진행:  60000\n",
      "진행:  70000\n",
      "진행:  80000\n",
      "진행:  90000\n",
      "진행:  100000\n",
      "진행:  110000\n",
      "진행:  120000\n",
      "진행:  130000\n",
      "진행:  140000\n",
      "진행:  150000\n",
      "진행:  160000\n",
      "진행:  170000\n",
      "진행:  180000\n",
      "진행:  190000\n",
      "진행:  200000\n",
      "진행:  210000\n",
      "진행:  220000\n",
      "진행:  230000\n",
      "진행:  240000\n",
      "진행:  250000\n",
      "진행:  260000\n",
      "진행:  270000\n",
      "진행:  280000\n",
      "진행:  290000\n",
      "진행:  300000\n",
      "진행:  310000\n",
      "진행:  320000\n",
      "진행:  330000\n",
      "진행:  340000\n",
      "진행:  350000\n"
     ]
    }
   ],
   "source": [
    "import ast\n",
    "train_df = pd.read_csv(path +'ner_train_df.csv')\n",
    "sentences = []\n",
    "ner_tags = []\n",
    "for i in range(len(train_df)):\n",
    "  if i % 10000 == 0:\n",
    "    print(\"진행: \",i)\n",
    "  sentences.append(ast.literal_eval(train_df['sentence'].iloc[i]))\n",
    "  ner_tags.append(ast.literal_eval(train_df['ner_tags'].iloc[i]))"
   ]
  },
  {
   "cell_type": "code",
   "execution_count": 7,
   "metadata": {
    "colab": {
     "base_uri": "https://localhost:8080/"
    },
    "executionInfo": {
     "elapsed": 27,
     "status": "ok",
     "timestamp": 1663576155808,
     "user": {
      "displayName": "이도현",
      "userId": "09446858875803925695"
     },
     "user_tz": -540
    },
    "id": "8uZO383CQpSQ",
    "outputId": "e1e3bf9d-40d4-44d4-b824-29619229f954"
   },
   "outputs": [
    {
     "name": "stdout",
     "output_type": "stream",
     "text": [
      "첫번째 샘플의 문장 : ['[', '횡설수설', '/', '권순활', ']', '北', '‘', '외화', '벌이', '’', '뜯어', '먹기']\n",
      "첫번째 샘플의 레이블 : ['O', 'O', 'O', 'B-PS_NAME', 'O', 'B-LCP_COUNTRY', 'O', 'O', 'O', 'O', 'O', 'O']\n"
     ]
    }
   ],
   "source": [
    "print('첫번째 샘플의 문장 :',sentences[0])\n",
    "print('첫번째 샘플의 레이블 :',ner_tags[0])"
   ]
  },
  {
   "cell_type": "code",
   "execution_count": 8,
   "metadata": {
    "colab": {
     "base_uri": "https://localhost:8080/",
     "height": 317
    },
    "executionInfo": {
     "elapsed": 24,
     "status": "ok",
     "timestamp": 1663576155810,
     "user": {
      "displayName": "이도현",
      "userId": "09446858875803925695"
     },
     "user_tz": -540
    },
    "id": "TyOvfL25RBhW",
    "outputId": "cb0bdb7e-7463-49fa-d3ed-1c2a6a33122f"
   },
   "outputs": [
    {
     "name": "stdout",
     "output_type": "stream",
     "text": [
      "샘플의 최대 길이 : 368\n",
      "샘플의 평균 길이 : 19.878551\n"
     ]
    },
    {
     "data": {
      "image/png": "[encoded data removed]",
      "text/plain": [
       "<Figure size 432x288 with 1 Axes>"
      ]
     },
     "metadata": {
      "needs_background": "light"
     },
     "output_type": "display_data"
    }
   ],
   "source": [
    "print('샘플의 최대 길이 : %d' % max(len(sentence) for sentence in sentences))\n",
    "print('샘플의 평균 길이 : %f' % (sum(map(len, sentences))/len(sentences)))\n",
    "plt.hist([len(sentence) for sentence in sentences], bins=50)\n",
    "plt.xlabel('length of samples')\n",
    "plt.ylabel('number of samples')\n",
    "plt.show()"
   ]
  },
  {
   "cell_type": "code",
   "execution_count": 9,
   "metadata": {
    "colab": {
     "base_uri": "https://localhost:8080/"
    },
    "executionInfo": {
     "elapsed": 7112,
     "status": "ok",
     "timestamp": 1663576162909,
     "user": {
      "displayName": "이도현",
      "userId": "09446858875803925695"
     },
     "user_tz": -540
    },
    "id": "oLxKzxqqcB58",
    "outputId": "55dba18d-9b20-4f28-8866-53029239887b"
   },
   "outputs": [
    {
     "name": "stdout",
     "output_type": "stream",
     "text": [
      "단어 집합의 크기 : 232363\n",
      "개체명 태깅 정보 집합의 크기 : 300\n"
     ]
    }
   ],
   "source": [
    "# 모든 단어를 사용하며 인덱스 1에는 단어 'OOV'를 할당.\n",
    "src_tokenizer = Tokenizer(oov_token='OOV')\n",
    "# 태깅 정보들은 내부적으로 대문자를 유지한 채 저장\n",
    "tar_tokenizer = Tokenizer(lower=False)\n",
    "\n",
    "src_tokenizer.fit_on_texts(sentences)\n",
    "tar_tokenizer.fit_on_texts(ner_tags)\n",
    "\n",
    "vocab_size = len(src_tokenizer.word_index) + 1\n",
    "tag_size = len(tar_tokenizer.word_index) + 1\n",
    "print('단어 집합의 크기 : {}'.format(vocab_size))\n",
    "print('개체명 태깅 정보 집합의 크기 : {}'.format(tag_size))"
   ]
  },
  {
   "cell_type": "code",
   "execution_count": 10,
   "metadata": {
    "colab": {
     "base_uri": "https://localhost:8080/",
     "height": 35
    },
    "executionInfo": {
     "elapsed": 14,
     "status": "ok",
     "timestamp": 1663576162910,
     "user": {
      "displayName": "이도현",
      "userId": "09446858875803925695"
     },
     "user_tz": -540
    },
    "id": "z4xzTMO_RO3R",
    "outputId": "e78e4c83-9a60-42c6-9d7e-f04f14762c05"
   },
   "outputs": [
    {
     "data": {
      "application/vnd.google.colaboratory.intrinsic+json": {
       "type": "string"
      },
      "text/plain": [
       "\"\\nvocab_size = 4000\\nsrc_tokenizer = Tokenizer(num_words=vocab_size, oov_token='OOV')\\nsrc_tokenizer.fit_on_texts(sentences)\\n\\ntar_tokenizer = Tokenizer()\\ntar_tokenizer.fit_on_texts(ner_tags)\\n\""
      ]
     },
     "execution_count": 10,
     "metadata": {},
     "output_type": "execute_result"
    }
   ],
   "source": [
    "\"\"\"\n",
    "vocab_size = 4000\n",
    "src_tokenizer = Tokenizer(num_words=vocab_size, oov_token='OOV')\n",
    "src_tokenizer.fit_on_texts(sentences)\n",
    "\n",
    "tar_tokenizer = Tokenizer()\n",
    "tar_tokenizer.fit_on_texts(ner_tags)\n",
    "\"\"\""
   ]
  },
  {
   "cell_type": "code",
   "execution_count": 11,
   "metadata": {
    "executionInfo": {
     "elapsed": 6713,
     "status": "ok",
     "timestamp": 1663576169613,
     "user": {
      "displayName": "이도현",
      "userId": "09446858875803925695"
     },
     "user_tz": -540
    },
    "id": "CUe1wxUuUmu4"
   },
   "outputs": [],
   "source": [
    "# 정수 인코딩 시행\n",
    "X_data = src_tokenizer.texts_to_sequences(sentences)\n",
    "y_data = tar_tokenizer.texts_to_sequences(ner_tags)"
   ]
  },
  {
   "cell_type": "code",
   "execution_count": 12,
   "metadata": {
    "colab": {
     "base_uri": "https://localhost:8080/"
    },
    "executionInfo": {
     "elapsed": 53,
     "status": "ok",
     "timestamp": 1663576169614,
     "user": {
      "displayName": "이도현",
      "userId": "09446858875803925695"
     },
     "user_tz": -540
    },
    "id": "4vxy7ReaUn3E",
    "outputId": "7b24d56b-c0e7-4e05-9753-0573b718e5f1"
   },
   "outputs": [
    {
     "name": "stdout",
     "output_type": "stream",
     "text": [
      "[238, 9497, 560, 33580, 240, 3036, 28, 7501, 2611, 33, 7073, 4448]\n",
      "[1, 1, 1, 2, 1, 4, 1, 1, 1, 1, 1, 1]\n"
     ]
    }
   ],
   "source": [
    "print(X_data[0])\n",
    "print(y_data[0])"
   ]
  },
  {
   "cell_type": "code",
   "execution_count": 13,
   "metadata": {
    "executionInfo": {
     "elapsed": 49,
     "status": "ok",
     "timestamp": 1663576169614,
     "user": {
      "displayName": "이도현",
      "userId": "09446858875803925695"
     },
     "user_tz": -540
    },
    "id": "l3G4RpwEUpB4"
   },
   "outputs": [],
   "source": [
    "word_to_index = src_tokenizer.word_index\n",
    "index_to_word = src_tokenizer.index_word\n",
    "ner_to_index = tar_tokenizer.word_index\n",
    "index_to_ner = tar_tokenizer.index_word\n",
    "\n",
    "index_to_ner[0] = 'PAD'"
   ]
  },
  {
   "cell_type": "code",
   "execution_count": 14,
   "metadata": {
    "colab": {
     "base_uri": "https://localhost:8080/"
    },
    "executionInfo": {
     "elapsed": 49,
     "status": "ok",
     "timestamp": 1663576169615,
     "user": {
      "displayName": "이도현",
      "userId": "09446858875803925695"
     },
     "user_tz": -540
    },
    "id": "QzRu5PREUp7W",
    "outputId": "5db6f71b-8930-4445-a369-7ee475826c94"
   },
   "outputs": [
    {
     "name": "stdout",
     "output_type": "stream",
     "text": [
      "368\n",
      "1\n",
      "19.878551152301238\n"
     ]
    }
   ],
   "source": [
    "print(max(len(w) for w in sentences))\n",
    "print(min(len(w) for w in sentences))\n",
    "print(np.array([len(w) for w in sentences]).mean())"
   ]
  },
  {
   "cell_type": "code",
   "execution_count": 15,
   "metadata": {
    "executionInfo": {
     "elapsed": 2904,
     "status": "ok",
     "timestamp": 1663576172477,
     "user": {
      "displayName": "이도현",
      "userId": "09446858875803925695"
     },
     "user_tz": -540
    },
    "id": "dxh5HM8aUqg9"
   },
   "outputs": [],
   "source": [
    "max_len = 40 # max_len : 샘플의 토큰 길이의 최대를 보고 적당히 정한다.\n",
    "X_data = pad_sequences(X_data, maxlen=max_len, padding = 'post')\n",
    "y_data = pad_sequences(y_data, maxlen=max_len, padding = 'post') # 각 토큰에 대해 태깅을 하기에 maxlen이 같다"
   ]
  },
  {
   "cell_type": "code",
   "execution_count": 16,
   "metadata": {
    "executionInfo": {
     "elapsed": 6,
     "status": "ok",
     "timestamp": 1663576172478,
     "user": {
      "displayName": "이도현",
      "userId": "09446858875803925695"
     },
     "user_tz": -540
    },
    "id": "Crd6dIXAUr8W"
   },
   "outputs": [],
   "source": [
    "X_train, X_test, y_train_int, y_test_int = train_test_split(X_data, y_data, test_size = .2, random_state=777, shuffle=True)"
   ]
  },
  {
   "cell_type": "code",
   "execution_count": 17,
   "metadata": {
    "colab": {
     "base_uri": "https://localhost:8080/"
    },
    "executionInfo": {
     "elapsed": 5,
     "status": "ok",
     "timestamp": 1663576172478,
     "user": {
      "displayName": "이도현",
      "userId": "09446858875803925695"
     },
     "user_tz": -540
    },
    "id": "d8Os5TI0dd2J",
    "outputId": "08aeba99-5df5-489e-e155-5b45f6bf5baf"
   },
   "outputs": [
    {
     "name": "stdout",
     "output_type": "stream",
     "text": [
      "356504\n",
      "285203\n"
     ]
    }
   ],
   "source": [
    "print(len(X_data))\n",
    "print(len(X_train))"
   ]
  },
  {
   "cell_type": "code",
   "execution_count": 18,
   "metadata": {
    "executionInfo": {
     "elapsed": 8655,
     "status": "ok",
     "timestamp": 1663576181129,
     "user": {
      "displayName": "이도현",
      "userId": "09446858875803925695"
     },
     "user_tz": -540
    },
    "id": "6-7rDiIgUvA7"
   },
   "outputs": [],
   "source": [
    "y_train = to_categorical(y_train_int, num_classes = tag_size)\n",
    "y_test = to_categorical(y_test_int, num_classes = tag_size)"
   ]
  },
  {
   "cell_type": "code",
   "execution_count": 19,
   "metadata": {
    "colab": {
     "base_uri": "https://localhost:8080/"
    },
    "executionInfo": {
     "elapsed": 450,
     "status": "ok",
     "timestamp": 1663576183061,
     "user": {
      "displayName": "이도현",
      "userId": "09446858875803925695"
     },
     "user_tz": -540
    },
    "id": "UOdoQU6vXKkA",
    "outputId": "35bdfa45-8f0f-4baa-c380-c0fda2b7ef19"
   },
   "outputs": [
    {
     "name": "stdout",
     "output_type": "stream",
     "text": [
      "Colab only includes TensorFlow 2.x; %tensorflow_version has no effect.\n",
      "Found GPU at: /device:GPU:0\n"
     ]
    }
   ],
   "source": [
    "%tensorflow_version 2.x\n",
    "import tensorflow as tf\n",
    "device_name = tf.test.gpu_device_name()\n",
    "if device_name != '/device:GPU:0':\n",
    "  raise SystemError('GPU device not found')\n",
    "print('Found GPU at: {}'.format(device_name))"
   ]
  },
  {
   "cell_type": "code",
   "execution_count": 20,
   "metadata": {
    "executionInfo": {
     "elapsed": 1953,
     "status": "ok",
     "timestamp": 1663576185010,
     "user": {
      "displayName": "이도현",
      "userId": "09446858875803925695"
     },
     "user_tz": -540
    },
    "id": "h0cqtVnDUyxE"
   },
   "outputs": [],
   "source": [
    "with tf.device('/device:GPU:0'):\n",
    "  embedding_dim = 64\n",
    "  hidden_units = 32\n",
    "  dropout_ratio = 0.3\n",
    "\n",
    "  sequence_input = Input(shape=(max_len,),dtype=tf.int32, name='sequence_input')\n",
    "\n",
    "  model_embedding = Embedding(input_dim=vocab_size,\n",
    "                              output_dim=embedding_dim,\n",
    "                              input_length=max_len)(sequence_input)\n",
    "\n",
    "  model_bilstm = Bidirectional(LSTM(units=hidden_units, return_sequences=True))(model_embedding)\n",
    "\n",
    "  model_dropout = TimeDistributed(Dropout(dropout_ratio))(model_bilstm)\n",
    "\n",
    "  model_dense = TimeDistributed(Dense(tag_size, activation='relu'))(model_dropout)\n",
    "\n",
    "  base = Model(inputs=sequence_input, outputs=model_dense)\n",
    "  model = CRFModel(base, tag_size)\n",
    "  model.compile(optimizer=tf.keras.optimizers.Adam(0.001), metrics='accuracy')"
   ]
  },
  {
   "cell_type": "code",
   "execution_count": 21,
   "metadata": {
    "colab": {
     "base_uri": "https://localhost:8080/"
    },
    "executionInfo": {
     "elapsed": 2297899,
     "status": "ok",
     "timestamp": 1663578485604,
     "user": {
      "displayName": "이도현",
      "userId": "09446858875803925695"
     },
     "user_tz": -540
    },
    "id": "D0Px8NjSU7Cf",
    "outputId": "54141d16-4a03-480f-a00a-ae0d5c5701a9"
   },
   "outputs": [
    {
     "name": "stdout",
     "output_type": "stream",
     "text": [
      "Epoch 1/10\n",
      "1003/1003 [==============================] - ETA: 0s - decode_sequence_accuracy: 0.9175 - loss: 19.5824\n",
      "Epoch 1: val_decode_sequence_accuracy improved from -inf to 0.94859, saving model to bilstm_crf/cp.ckpt\n",
      "1003/1003 [==============================] - 239s 230ms/step - decode_sequence_accuracy: 0.9175 - loss: 19.5732 - val_decode_sequence_accuracy: 0.9486 - val_loss: 11.3014\n",
      "Epoch 2/10\n",
      "1003/1003 [==============================] - ETA: 0s - decode_sequence_accuracy: 0.9573 - loss: 7.0841\n",
      "Epoch 2: val_decode_sequence_accuracy improved from 0.94859 to 0.96511, saving model to bilstm_crf/cp.ckpt\n",
      "1003/1003 [==============================] - 229s 228ms/step - decode_sequence_accuracy: 0.9573 - loss: 7.0827 - val_decode_sequence_accuracy: 0.9651 - val_loss: 7.2723\n",
      "Epoch 3/10\n",
      "1003/1003 [==============================] - ETA: 0s - decode_sequence_accuracy: 0.9682 - loss: 4.4218\n",
      "Epoch 3: val_decode_sequence_accuracy improved from 0.96511 to 0.96823, saving model to bilstm_crf/cp.ckpt\n",
      "1003/1003 [==============================] - 229s 228ms/step - decode_sequence_accuracy: 0.9682 - loss: 4.4219 - val_decode_sequence_accuracy: 0.9682 - val_loss: 6.1701\n",
      "Epoch 4/10\n",
      "1003/1003 [==============================] - ETA: 0s - decode_sequence_accuracy: 0.9731 - loss: 3.2942\n",
      "Epoch 4: val_decode_sequence_accuracy improved from 0.96823 to 0.97014, saving model to bilstm_crf/cp.ckpt\n",
      "1003/1003 [==============================] - 229s 229ms/step - decode_sequence_accuracy: 0.9731 - loss: 3.2944 - val_decode_sequence_accuracy: 0.9701 - val_loss: 5.7014\n",
      "Epoch 5/10\n",
      "1003/1003 [==============================] - ETA: 0s - decode_sequence_accuracy: 0.9759 - loss: 2.6545\n",
      "Epoch 5: val_decode_sequence_accuracy improved from 0.97014 to 0.97020, saving model to bilstm_crf/cp.ckpt\n",
      "1003/1003 [==============================] - 229s 228ms/step - decode_sequence_accuracy: 0.9759 - loss: 2.6547 - val_decode_sequence_accuracy: 0.9702 - val_loss: 5.6340\n",
      "Epoch 6/10\n",
      "1003/1003 [==============================] - ETA: 0s - decode_sequence_accuracy: 0.9778 - loss: 2.2224\n",
      "Epoch 6: val_decode_sequence_accuracy did not improve from 0.97020\n",
      "1003/1003 [==============================] - 229s 228ms/step - decode_sequence_accuracy: 0.9778 - loss: 2.2220 - val_decode_sequence_accuracy: 0.9698 - val_loss: 5.4325\n",
      "Epoch 7/10\n",
      "1003/1003 [==============================] - ETA: 0s - decode_sequence_accuracy: 0.9793 - loss: 1.9135\n",
      "Epoch 7: val_decode_sequence_accuracy did not improve from 0.97020\n",
      "1003/1003 [==============================] - 228s 228ms/step - decode_sequence_accuracy: 0.9793 - loss: 1.9134 - val_decode_sequence_accuracy: 0.9689 - val_loss: 5.4688\n",
      "Epoch 8/10\n",
      "1003/1003 [==============================] - ETA: 0s - decode_sequence_accuracy: 0.9807 - loss: 1.6693\n",
      "Epoch 8: val_decode_sequence_accuracy improved from 0.97020 to 0.97068, saving model to bilstm_crf/cp.ckpt\n",
      "1003/1003 [==============================] - 229s 228ms/step - decode_sequence_accuracy: 0.9807 - loss: 1.6695 - val_decode_sequence_accuracy: 0.9707 - val_loss: 5.3986\n",
      "Epoch 9/10\n",
      "1003/1003 [==============================] - ETA: 0s - decode_sequence_accuracy: 0.9818 - loss: 1.4718\n",
      "Epoch 9: val_decode_sequence_accuracy did not improve from 0.97068\n",
      "1003/1003 [==============================] - 229s 228ms/step - decode_sequence_accuracy: 0.9818 - loss: 1.4717 - val_decode_sequence_accuracy: 0.9701 - val_loss: 5.5448\n",
      "Epoch 10/10\n",
      "1003/1003 [==============================] - ETA: 0s - decode_sequence_accuracy: 0.9829 - loss: 1.3147\n",
      "Epoch 10: val_decode_sequence_accuracy did not improve from 0.97068\n",
      "1003/1003 [==============================] - 228s 228ms/step - decode_sequence_accuracy: 0.9829 - loss: 1.3147 - val_decode_sequence_accuracy: 0.9696 - val_loss: 5.4394\n"
     ]
    }
   ],
   "source": [
    "es = EarlyStopping(monitor='val_loss', mode='min', verbose=1, patience=4)\n",
    "mc = ModelCheckpoint('bilstm_crf/cp.ckpt', monitor='val_decode_sequence_accuracy', mode='max', verbose=1, save_best_only=True, save_weights_only=True)\n",
    "\n",
    "history = model.fit(X_train, y_train_int, batch_size=256, epochs=10, validation_split=0.1, callbacks=[mc, es])"
   ]
  },
  {
   "cell_type": "code",
   "execution_count": 22,
   "metadata": {
    "colab": {
     "base_uri": "https://localhost:8080/"
    },
    "executionInfo": {
     "elapsed": 1125,
     "status": "ok",
     "timestamp": 1663579678323,
     "user": {
      "displayName": "이도현",
      "userId": "09446858875803925695"
     },
     "user_tz": -540
    },
    "id": "IkSWD_NDU_Dh",
    "outputId": "4d9e102b-6532-4133-9d1b-9c2013c763ae"
   },
   "outputs": [
    {
     "name": "stdout",
     "output_type": "stream",
     "text": [
      "단어             |실제값  |예측값\n",
      "-----------------------------------\n",
      "자                : O       O\n",
      "하나               : B-QT_COUNT B-QT_COUNT\n",
      "둘                : B-QT_COUNT B-QT_COUNT\n"
     ]
    }
   ],
   "source": [
    "model.load_weights('bilstm_crf/cp.ckpt')\n",
    "\n",
    "i = 15 # 확인하고 싶은 테스트용 샘플의 인덱스.\n",
    "y_predicted = model.predict(np.array([X_test[i]]))[0] # 입력한 테스트용 샘플에 대해서 예측 y를 리턴\n",
    "labels = np.argmax(y_test[i], -1) # 원-핫 인코딩을 다시 정수 인코딩으로 변경.\n",
    "\n",
    "print(\"{:15}|{:5}|{}\".format(\"단어\", \"실제값\", \"예측값\"))\n",
    "print(35 * \"-\")\n",
    "\n",
    "for word, tag, pred in zip(X_test[i], labels, y_predicted[0]):\n",
    "    if word != 0: # PAD값은 제외함.\n",
    "        print(\"{:17}: {:7} {}\".format(index_to_word[word], index_to_ner[tag], index_to_ner[pred]))"
   ]
  },
  {
   "cell_type": "code",
   "execution_count": 23,
   "metadata": {
    "colab": {
     "base_uri": "https://localhost:8080/"
    },
    "executionInfo": {
     "elapsed": 2767,
     "status": "ok",
     "timestamp": 1663579682253,
     "user": {
      "displayName": "이도현",
      "userId": "09446858875803925695"
     },
     "user_tz": -540
    },
    "id": "Lqf68sX3be37",
    "outputId": "0f2997cd-87e5-46bd-a75f-61048673c0f7"
   },
   "outputs": [
    {
     "name": "stdout",
     "output_type": "stream",
     "text": [
      "Looking in indexes: https://pypi.org/simple, https://us-python.pkg.dev/colab-wheels/public/simple/\n",
      "Requirement already satisfied: seqeval in /usr/local/lib/python3.7/dist-packages (1.2.2)\n",
      "Requirement already satisfied: numpy>=1.14.0 in /usr/local/lib/python3.7/dist-packages (from seqeval) (1.21.6)\n",
      "Requirement already satisfied: scikit-learn>=0.21.3 in /usr/local/lib/python3.7/dist-packages (from seqeval) (1.0.2)\n",
      "Requirement already satisfied: threadpoolctl>=2.0.0 in /usr/local/lib/python3.7/dist-packages (from scikit-learn>=0.21.3->seqeval) (3.1.0)\n",
      "Requirement already satisfied: scipy>=1.1.0 in /usr/local/lib/python3.7/dist-packages (from scikit-learn>=0.21.3->seqeval) (1.7.3)\n",
      "Requirement already satisfied: joblib>=0.11 in /usr/local/lib/python3.7/dist-packages (from scikit-learn>=0.21.3->seqeval) (1.1.0)\n"
     ]
    }
   ],
   "source": [
    "!pip install seqeval"
   ]
  },
  {
   "cell_type": "code",
   "execution_count": 24,
   "metadata": {
    "executionInfo": {
     "elapsed": 6,
     "status": "ok",
     "timestamp": 1663579682254,
     "user": {
      "displayName": "이도현",
      "userId": "09446858875803925695"
     },
     "user_tz": -540
    },
    "id": "DG57HUHgph8d"
   },
   "outputs": [],
   "source": [
    "from seqeval.metrics import f1_score, classification_report\n",
    "def sequences_to_tag(sequences):\n",
    "    result = []\n",
    "    # 전체 시퀀스로부터 시퀀스를 하나씩 꺼낸다.\n",
    "    for sequence in sequences:\n",
    "        word_sequence = []\n",
    "        # 시퀀스로부터 확률 벡터 또는 원-핫 벡터를 하나씩 꺼낸다.\n",
    "        for pred in sequence:\n",
    "            # 정수로 변환. 예를 들어 pred가 [0, 0, 1, 0 ,0]라면 1의 인덱스인 2를 리턴한다.\n",
    "            pred_index = np.argmax(pred)            \n",
    "            # index_to_ner을 사용하여 정수를 태깅 정보로 변환. 'PAD'는 'O'로 변경.\n",
    "            word_sequence.append(index_to_ner[pred_index].replace(\"PAD\", \"O\"))\n",
    "        result.append(word_sequence)\n",
    "    return result\n",
    "\n",
    "#y_predicted = model.predict([X_test])\n",
    "#pred_tags = sequences_to_tag(y_predicted)\n",
    "#test_tags = sequences_to_tag(y_test)\n",
    "\n",
    "#print(\"F1-score: {:.1%}\".format(f1_score(test_tags, pred_tags)))\n",
    "#print(classification_report(test_tags, pred_tags))"
   ]
  },
  {
   "cell_type": "code",
   "execution_count": null,
   "metadata": {
    "id": "UR9IlHU0piu4"
   },
   "outputs": [],
   "source": [
    "def sequences_to_tag_for_crf(sequences): \n",
    "    result = []\n",
    "    # 전체 시퀀스로부터 시퀀스를 하나씩 꺼낸다.\n",
    "    for sequence in sequences: \n",
    "        word_sequence = []\n",
    "        # 시퀀스로부터 예측 정수 레이블을 하나씩 꺼낸다.\n",
    "        for pred_index in sequence:\n",
    "            # index_to_ner을 사용하여 정수를 태깅 정보로 변환. 'PAD'는 'O'로 변경.\n",
    "            word_sequence.append(index_to_ner[pred_index].replace(\"PAD\", \"O\"))\n",
    "        result.append(word_sequence)\n",
    "    return result\n",
    "\n",
    "y_predicted = model.predict(X_test)[0]\n",
    "pred_tags = sequences_to_tag_for_crf(y_predicted)\n",
    "test_tags = sequences_to_tag(y_test)\n",
    "\n",
    "print(\"F1-score: {:.1%}\".format(f1_score(test_tags, pred_tags)))\n",
    "print(classification_report(test_tags, pred_tags))"
   ]
  },
  {
   "cell_type": "code",
   "execution_count": null,
   "metadata": {
    "id": "942hAvZlqgC4"
   },
   "outputs": [],
   "source": []
  }
 ],
 "metadata": {
  "accelerator": "GPU",
  "colab": {
   "collapsed_sections": [],
   "machine_shape": "hm",
   "provenance": [
    {
     "file_id": "1MOcZfPXWJCvOhOieqm6kJWetKB0pkaOv",
     "timestamp": 1663571094584
    },
    {
     "file_id": "17Q8FlbRy2iFOX-5QLr8yzqkCQPZjvI-5",
     "timestamp": 1662364228252
    }
   ]
  },
  "gpuClass": "standard",
  "kernelspec": {
   "display_name": "Python 3 (ipykernel)",
   "language": "python",
   "name": "python3"
  },
  "language_info": {
   "codemirror_mode": {
    "name": "ipython",
    "version": 3
   },
   "file_extension": ".py",
   "mimetype": "text/x-python",
   "name": "python",
   "nbconvert_exporter": "python",
   "pygments_lexer": "ipython3",
   "version": "3.8.5"
  }
 },
 "nbformat": 4,
 "nbformat_minor": 1
}
